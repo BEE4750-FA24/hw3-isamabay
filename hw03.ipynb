{
  "cells": [
    {
      "cell_type": "markdown",
      "id": "aa251687-e7a9-477c-9f60-65003d2660e9",
      "metadata": {},
      "source": [
        "# BEE 4750 Homework 3: Dissolved Oxygen and Monte Carlo\n",
        "\n",
        "**Name**: Badyn Milstein-Touesnard, Isabel Camara, Mateo Aranzazu\n",
        "\n",
        "**ID**: 5286287, 5273977, 5355552\n",
        "\n",
        "**netD**: bmm98, ic277 , ma956\n",
        "\n",
        "> **Due Date**\n",
        ">\n",
        "> Thursday, 10/03/23, 9:00pm\n",
        "\n",
        "## Overview\n",
        "\n",
        "### Instructions\n",
        "\n",
        "-   Problem 1 asks you to implement a model for dissolved oxygen in a\n",
        "    river with multiple waste releases and use this to develop a\n",
        "    strategy to ensure regulatory compliance.\n",
        "-   Problem 2 asks you to use Monte Carlo simulation to assess how well\n",
        "    your strategy from Problem 1 performs under uncertainty.\n",
        "-   Problem 3 (5750 only) asks you to identify where a third discharge\n",
        "    should be placed to maintain regulatory compliance.\n",
        "\n",
        "### Load Environment\n",
        "\n",
        "The following code loads the environment and makes sure all needed\n",
        "packages are installed. This should be at the start of most Julia\n",
        "scripts."
      ]
    },
    {
      "cell_type": "code",
      "execution_count": 58,
      "id": "2",
      "metadata": {},
      "outputs": [
        {
          "name": "stderr",
          "output_type": "stream",
          "text": [
            "\u001b[32m\u001b[1m  Activating\u001b[22m\u001b[39m project at `~/BEE 4750/Homework/hw3-isamabay`\n",
            "\u001b[32m\u001b[1m    Updating\u001b[22m\u001b[39m registry at `~/.julia/registries/General.toml`\n",
            "\u001b[32m\u001b[1m   Resolving\u001b[22m\u001b[39m package versions...\n",
            "\u001b[32m\u001b[1m    Updating\u001b[22m\u001b[39m `~/BEE 4750/Homework/hw3-isamabay/Project.toml`\n",
            "  \u001b[90m[442fdcdd] \u001b[39m\u001b[92m+ Measures v0.3.2\u001b[39m\n",
            "\u001b[32m\u001b[1m  No Changes\u001b[22m\u001b[39m to `~/BEE 4750/Homework/hw3-isamabay/Manifest.toml`\n"
          ]
        }
      ],
      "source": [
        "import Pkg\n",
        "Pkg.activate(@__DIR__)\n",
        "Pkg.instantiate()\n",
        "Pkg.add(\"Measures\")"
      ]
    },
    {
      "cell_type": "code",
      "execution_count": 59,
      "id": "4",
      "metadata": {},
      "outputs": [],
      "source": [
        "using Random\n",
        "using Plots\n",
        "using LaTeXStrings\n",
        "using Distributions\n",
        "using CSV\n",
        "using DataFrames\n",
        "using Measures"
      ]
    },
    {
      "cell_type": "markdown",
      "id": "44ea7b1b-c861-44b6-82f7-4f10fe33a8b9",
      "metadata": {},
      "source": [
        "## Problems (Total: 50/60 Points)"
      ]
    },
    {
      "cell_type": "markdown",
      "id": "0527256a-63f4-4807-ad62-3a5e687408a1",
      "metadata": {},
      "source": [
        "### Problem 1 (30 points)\n",
        "\n",
        "A river which flows at 6 km/d is receiving waste discharges from two\n",
        "sources which are 15 km apart. The oxygen reaeration rate is 0.55\n",
        "day<sup>-1</sup>, and the decay rates of CBOD and NBOD are are 0.35 and\n",
        "0.25 day<sup>-1</sup>, respectively. The river’s saturated dissolved\n",
        "oxygen concentration is 10m g/L.\n",
        "\n",
        "If the characteristics of the river inflow and waste discharges are\n",
        "given in <a href=\"#tbl-river\" class=\"quarto-xref\">Table 1</a>, write a\n",
        "Julia model to compute the dissolved oxygen concentration from the first\n",
        "wastewater discharge to an arbitrary distance `d` km downstream. Use\n",
        "your model to compute the maximum dissolved oxygen concentration up to\n",
        "50km downstream and how far downriver this maximum occurs.\n",
        "\n",
        "| Parameter | River Inflow | Waste Stream 1 | Waste Stream 2 |\n",
        "|:--:|---:|---:|---:|\n",
        "| Inflow | 100,000 m<sup>3</sup>/d | 10,000 m<sup>3</sup>/d | 15,000 m<sup>3</sup>/d |\n",
        "| DO Concentration | 7.5 mg/L | 5 mg/L | 5 mg/L |\n",
        "| CBOD | 5 mg/L | 50 mg/L | 45 mg/L |\n",
        "| NBOD | 5 mg/L | 35 mg/L | 35 mg/L |\n",
        "\n",
        "Table 1: River inflow and waste stream characteristics for Problem 1.\n",
        "\n",
        "**In this problem**:\n",
        "\n",
        "-   Plot the dissolved oxygen concentration from the first waste stream\n",
        "    to 50m downriver. What is the minimum value in mg/L?\n",
        "-   What is the minimum level of treatment (% removal of organic waste)\n",
        "    for waste stream 1 that will ensure that the dissolved oxygen\n",
        "    concentration never drops below 4 mg/L, assuming that waste stream 2\n",
        "    remains untreated? How about if only waste stream 2 is treated?\n",
        "-   Suppose you are responsible for designing a waste treatment plan for\n",
        "    discharges into the river, with a regulatory mandate to keep the\n",
        "    dissolved oxygen concentration above 4 mg/L. Discuss whether you’d\n",
        "    opt to treat waste stream 2 alone or both waste streams equally.\n",
        "    What other information might you need to make a conclusion, if any?"
      ]
    },
    {
      "cell_type": "code",
      "execution_count": 115,
      "id": "a020bc39",
      "metadata": {},
      "outputs": [
        {
          "data": {
            "text/plain": [
              "15000"
            ]
          },
          "metadata": {},
          "output_type": "display_data"
        }
      ],
      "source": [
        "#define river properties\n",
        "U = 6          #km/day\n",
        "Cs = 10        #general saturation level\n",
        "ka= .55        #day^-1\n",
        "kc = .35 \n",
        "kn = .25 \n",
        "Cr_DO = 7.5    # mg/L\n",
        "Cr_CBOD = 5\n",
        "Cr_NBOD = 5\n",
        "Cw1_DO = 5\n",
        "Cw1_CBOD = 50\n",
        "Cw1_NBOD = 35\n",
        "Qr = 100000     # m3/d\n",
        "Qw1 = 10000     # m3/d\n",
        "Cw2_DO = 5\n",
        "Cw2_CBOD = 45\n",
        "Cw2_NBOD = 35\n",
        "Qw2 = 15000     #m3/d\n"
      ]
    },
    {
      "cell_type": "code",
      "execution_count": 116,
      "id": "d1b52f3c",
      "metadata": {},
      "outputs": [],
      "source": [
        "\n",
        "#Find Mixing Variables\n",
        "C0 = ((Cr_DO*Qr)+(Cw1_DO*Qw1))/(Qr+Qw1) #DO Concentration\n",
        "B0 = ((Cr_CBOD*Qr)+(Cw1_CBOD*Qw1))/(Qr+Qw1) #CBOD concentration\n",
        "N0 = ((Cr_NBOD*Qr)+(Cw1_NBOD*Qw1))/(Qr+Qw1) #NBOD concentration\n",
        "\n",
        "\n",
        "function do_simulate(x,Cs,C0,B0,N0,ka,kc,kn,U)\n",
        "    #create formulas for mixing river and stream 1 based on Streeter-Phelps model\n",
        "    a_1 = exp(-ka*x/U)\n",
        "    a_2 = (kc/(ka-kc))*(exp(-kc*x/U)-exp(-ka*x/U))\n",
        "    a_3 = (kn/(ka-kn))*(exp(-kn*x/U)-exp(-ka*x/U))\n",
        "    C = Cs*(1-a_1)+C0*(a_1)-B0*(a_2)-N0*(a_3) \n",
        "    return C\n",
        "end\n",
        "\n",
        "#DO concentration at 15 km\n",
        "C15 = (do_simulate(15,Cs,C0,B0,N0,ka,kc,kn,U))\n",
        "CBOD_15 = B0*exp(-kc*15/U)\n",
        "NBOD_15 = N0*exp(-kn*15/U)\n",
        "\n",
        "x = 0:15\n",
        "C = (y -> do_simulate(y,Cs,C0,B0,N0,ka,kc,kn,U)).(x);\n"
      ]
    },
    {
      "cell_type": "code",
      "execution_count": 117,
      "id": "e9438d82",
      "metadata": {},
      "outputs": [
        {
          "name": "stdout",
          "output_type": "stream",
          "text": [
            "C1 = 4.896480650455226\n"
          ]
        }
      ],
      "source": [
        "\n",
        "#Now consider river + stream 1 mixing with stream 2\n",
        "C1 = ((C15*(Qr+Qw1))+(Cw2_DO*Qw2)) / (Qr+Qw1+Qw2) #DO Concentration\n",
        "B1 = ((CBOD_15*(Qr+Qw1))+(Cw2_CBOD*Qw2))/(Qr+Qw1+Qw2) #CBOD concentration\n",
        "N1 = ((NBOD_15*(Qr+Qw1))+(Cw2_NBOD*Qw2))/(Qr+Qw1+Qw2) #NBOD concentration\n",
        "\n",
        "@show C1\n",
        "\n",
        "d = 15:50\n",
        "\n",
        "function do_simulate_2(d,Cs,C1,B1,N1,ka,kc,kn,U)\n",
        "    # create formulas for mixing river, stream 1, and stream 2 based on Streeter-Phelps model\n",
        "    a1 = exp(-ka * d / U)\n",
        "    a2 = (kc/(ka-kc)) * (exp(-kc * d / U) - exp(-ka * d / U))\n",
        "    a3 = (kn/(ka-kn)) * (exp(-kn * d / U) - exp(-ka * d / U))\n",
        "    C_2 = Cs * (1 - a1) + C1 * a1 - B1 * a2 - N1 * a3\n",
        "\n",
        "    return C_2\n",
        "end\n",
        "\n",
        "C_2 = (y -> do_simulate_2(y-15,Cs,C1,B1,N1,ka,kc,kn,U)).(d);"
      ]
    },
    {
      "cell_type": "markdown",
      "id": "420130d8",
      "metadata": {},
      "source": [
        "**Plot of DO from first waste stream to 50km downriver**:"
      ]
    },
    {
      "cell_type": "code",
      "execution_count": 118,
      "id": "c8158b89",
      "metadata": {},
      "outputs": [
        {
          "data": {
            "image/png": "[encoded data removed]",
            "image/svg+xml": [
              "<?xml version=\"1.0\" encoding=\"utf-8\"?>\n",
              "<svg xmlns=\"http://www.w3.org/2000/svg\" xmlns:xlink=\"http://www.w3.org/1999/xlink\" width=\"600\" height=\"400\" viewBox=\"0 0 2400 1600\">\n",
              "<defs>\n",
              "  <clipPath id=\"clip240\">\n",
              "    <rect x=\"0\" y=\"0\" width=\"2400\" height=\"1600\"/>\n",
              "  </clipPath>\n",
              "</defs>\n",
              "<path clip-path=\"url(#clip240)\" d=\"M0 1600 L2400 1600 L2400 0 L0 0  Z\" fill=\"#ffffff\" fill-rule=\"evenodd\" fill-opacity=\"1\"/>\n",
              "<defs>\n",
              "  <clipPath id=\"clip241\">\n",
              "    <rect x=\"480\" y=\"0\" width=\"1681\" height=\"1600\"/>\n",
              "  </clipPath>\n",
              "</defs>\n",
              "<path clip-path=\"url(#clip240)\" d=\"M175.445 1423.18 L1583.19 1423.18 L1583.19 47.2441 L175.445 47.2441  Z\" fill=\"#ffffff\" fill-rule=\"evenodd\" fill-opacity=\"1\"/>\n",
              "<defs>\n",
              "  <clipPath id=\"clip242\">\n",
              "    <rect x=\"175\" y=\"47\" width=\"1409\" height=\"1377\"/>\n",
              "  </clipPath>\n",
              "</defs>\n",
              "<polyline clip-path=\"url(#clip242)\" style=\"stroke:#000000; stroke-linecap:round; stroke-linejoin:round; stroke-width:2; stroke-opacity:0.1; fill:none\" points=\"215.287,1423.18 215.287,47.2441 \"/>\n",
              "<polyline clip-path=\"url(#clip242)\" style=\"stroke:#000000; stroke-linecap:round; stroke-linejoin:round; stroke-width:2; stroke-opacity:0.1; fill:none\" points=\"480.9,1423.18 480.9,47.2441 \"/>\n",
              "<polyline clip-path=\"url(#clip242)\" style=\"stroke:#000000; stroke-linecap:round; stroke-linejoin:round; stroke-width:2; stroke-opacity:0.1; fill:none\" points=\"746.512,1423.18 746.512,47.2441 \"/>\n",
              "<polyline clip-path=\"url(#clip242)\" style=\"stroke:#000000; stroke-linecap:round; stroke-linejoin:round; stroke-width:2; stroke-opacity:0.1; fill:none\" points=\"1012.12,1423.18 1012.12,47.2441 \"/>\n",
              "<polyline clip-path=\"url(#clip242)\" style=\"stroke:#000000; stroke-linecap:round; stroke-linejoin:round; stroke-width:2; stroke-opacity:0.1; fill:none\" points=\"1277.74,1423.18 1277.74,47.2441 \"/>\n",
              "<polyline clip-path=\"url(#clip242)\" style=\"stroke:#000000; stroke-linecap:round; stroke-linejoin:round; stroke-width:2; stroke-opacity:0.1; fill:none\" points=\"1543.35,1423.18 1543.35,47.2441 \"/>\n",
              "<polyline clip-path=\"url(#clip240)\" style=\"stroke:#000000; stroke-linecap:round; stroke-linejoin:round; stroke-width:4; stroke-opacity:1; fill:none\" points=\"175.445,1423.18 1583.19,1423.18 \"/>\n",
              "<polyline clip-path=\"url(#clip240)\" style=\"stroke:#000000; stroke-linecap:round; stroke-linejoin:round; stroke-width:4; stroke-opacity:1; fill:none\" points=\"215.287,1423.18 215.287,1404.28 \"/>\n",
              "<polyline clip-path=\"url(#clip240)\" style=\"stroke:#000000; stroke-linecap:round; stroke-linejoin:round; stroke-width:4; stroke-opacity:1; fill:none\" points=\"480.9,1423.18 480.9,1404.28 \"/>\n",
              "<polyline clip-path=\"url(#clip240)\" style=\"stroke:#000000; stroke-linecap:round; stroke-linejoin:round; stroke-width:4; stroke-opacity:1; fill:none\" points=\"746.512,1423.18 746.512,1404.28 \"/>\n",
              "<polyline clip-path=\"url(#clip240)\" style=\"stroke:#000000; stroke-linecap:round; stroke-linejoin:round; stroke-width:4; stroke-opacity:1; fill:none\" points=\"1012.12,1423.18 1012.12,1404.28 \"/>\n",
              "<polyline clip-path=\"url(#clip240)\" style=\"stroke:#000000; stroke-linecap:round; stroke-linejoin:round; stroke-width:4; stroke-opacity:1; fill:none\" points=\"1277.74,1423.18 1277.74,1404.28 \"/>\n",
              "<polyline clip-path=\"url(#clip240)\" style=\"stroke:#000000; stroke-linecap:round; stroke-linejoin:round; stroke-width:4; stroke-opacity:1; fill:none\" points=\"1543.35,1423.18 1543.35,1404.28 \"/>\n",
              "<path clip-path=\"url(#clip240)\" d=\"M215.287 1454.1 Q211.676 1454.1 209.847 1457.66 Q208.042 1461.2 208.042 1468.33 Q208.042 1475.44 209.847 1479.01 Q211.676 1482.55 215.287 1482.55 Q218.921 1482.55 220.727 1479.01 Q222.556 1475.44 222.556 1468.33 Q222.556 1461.2 220.727 1457.66 Q218.921 1454.1 215.287 1454.1 M215.287 1450.39 Q221.097 1450.39 224.153 1455 Q227.231 1459.58 227.231 1468.33 Q227.231 1477.06 224.153 1481.67 Q221.097 1486.25 215.287 1486.25 Q209.477 1486.25 206.398 1481.67 Q203.343 1477.06 203.343 1468.33 Q203.343 1459.58 206.398 1455 Q209.477 1450.39 215.287 1450.39 Z\" fill=\"#000000\" fill-rule=\"nonzero\" fill-opacity=\"1\" /><path clip-path=\"url(#clip240)\" d=\"M455.587 1481.64 L463.226 1481.64 L463.226 1455.28 L454.916 1456.95 L454.916 1452.69 L463.18 1451.02 L467.856 1451.02 L467.856 1481.64 L475.494 1481.64 L475.494 1485.58 L455.587 1485.58 L455.587 1481.64 Z\" fill=\"#000000\" fill-rule=\"nonzero\" fill-opacity=\"1\" /><path clip-path=\"url(#clip240)\" d=\"M494.939 1454.1 Q491.328 1454.1 489.499 1457.66 Q487.693 1461.2 487.693 1468.33 Q487.693 1475.44 489.499 1479.01 Q491.328 1482.55 494.939 1482.55 Q498.573 1482.55 500.379 1479.01 Q502.207 1475.44 502.207 1468.33 Q502.207 1461.2 500.379 1457.66 Q498.573 1454.1 494.939 1454.1 M494.939 1450.39 Q500.749 1450.39 503.804 1455 Q506.883 1459.58 506.883 1468.33 Q506.883 1477.06 503.804 1481.67 Q500.749 1486.25 494.939 1486.25 Q489.129 1486.25 486.05 1481.67 Q482.994 1477.06 482.994 1468.33 Q482.994 1459.58 486.05 1455 Q489.129 1450.39 494.939 1450.39 Z\" fill=\"#000000\" fill-rule=\"nonzero\" fill-opacity=\"1\" /><path clip-path=\"url(#clip240)\" d=\"M725.285 1481.64 L741.605 1481.64 L741.605 1485.58 L719.66 1485.58 L719.66 1481.64 Q722.322 1478.89 726.906 1474.26 Q731.512 1469.61 732.693 1468.27 Q734.938 1465.74 735.818 1464.01 Q736.72 1462.25 736.72 1460.56 Q736.72 1457.8 734.776 1456.07 Q732.855 1454.33 729.753 1454.33 Q727.554 1454.33 725.1 1455.09 Q722.669 1455.86 719.892 1457.41 L719.892 1452.69 Q722.716 1451.55 725.169 1450.97 Q727.623 1450.39 729.66 1450.39 Q735.031 1450.39 738.225 1453.08 Q741.419 1455.77 741.419 1460.26 Q741.419 1462.39 740.609 1464.31 Q739.822 1466.2 737.716 1468.8 Q737.137 1469.47 734.035 1472.69 Q730.933 1475.88 725.285 1481.64 Z\" fill=\"#000000\" fill-rule=\"nonzero\" fill-opacity=\"1\" /><path clip-path=\"url(#clip240)\" d=\"M761.419 1454.1 Q757.808 1454.1 755.979 1457.66 Q754.174 1461.2 754.174 1468.33 Q754.174 1475.44 755.979 1479.01 Q757.808 1482.55 761.419 1482.55 Q765.054 1482.55 766.859 1479.01 Q768.688 1475.44 768.688 1468.33 Q768.688 1461.2 766.859 1457.66 Q765.054 1454.1 761.419 1454.1 M761.419 1450.39 Q767.229 1450.39 770.285 1455 Q773.364 1459.58 773.364 1468.33 Q773.364 1477.06 770.285 1481.67 Q767.229 1486.25 761.419 1486.25 Q755.609 1486.25 752.53 1481.67 Q749.475 1477.06 749.475 1468.33 Q749.475 1459.58 752.53 1455 Q755.609 1450.39 761.419 1450.39 Z\" fill=\"#000000\" fill-rule=\"nonzero\" fill-opacity=\"1\" /><path clip-path=\"url(#clip240)\" d=\"M1000.97 1466.95 Q1004.32 1467.66 1006.2 1469.93 Q1008.1 1472.2 1008.1 1475.53 Q1008.1 1480.65 1004.58 1483.45 Q1001.06 1486.25 994.578 1486.25 Q992.402 1486.25 990.087 1485.81 Q987.796 1485.39 985.342 1484.54 L985.342 1480.02 Q987.287 1481.16 989.601 1481.74 Q991.916 1482.32 994.439 1482.32 Q998.837 1482.32 1001.13 1480.58 Q1003.44 1478.84 1003.44 1475.53 Q1003.44 1472.48 1001.29 1470.77 Q999.161 1469.03 995.342 1469.03 L991.314 1469.03 L991.314 1465.19 L995.527 1465.19 Q998.976 1465.19 1000.8 1463.82 Q1002.63 1462.43 1002.63 1459.84 Q1002.63 1457.18 1000.74 1455.77 Q998.861 1454.33 995.342 1454.33 Q993.421 1454.33 991.222 1454.75 Q989.023 1455.16 986.384 1456.04 L986.384 1451.88 Q989.046 1451.14 991.361 1450.77 Q993.699 1450.39 995.759 1450.39 Q1001.08 1450.39 1004.18 1452.83 Q1007.29 1455.23 1007.29 1459.35 Q1007.29 1462.22 1005.64 1464.21 Q1004 1466.18 1000.97 1466.95 Z\" fill=\"#000000\" fill-rule=\"nonzero\" fill-opacity=\"1\" /><path clip-path=\"url(#clip240)\" d=\"M1026.96 1454.1 Q1023.35 1454.1 1021.52 1457.66 Q1019.72 1461.2 1019.72 1468.33 Q1019.72 1475.44 1021.52 1479.01 Q1023.35 1482.55 1026.96 1482.55 Q1030.6 1482.55 1032.4 1479.01 Q1034.23 1475.44 1034.23 1468.33 Q1034.23 1461.2 1032.4 1457.66 Q1030.6 1454.1 1026.96 1454.1 M1026.96 1450.39 Q1032.77 1450.39 1035.83 1455 Q1038.91 1459.58 1038.91 1468.33 Q1038.91 1477.06 1035.83 1481.67 Q1032.77 1486.25 1026.96 1486.25 Q1021.15 1486.25 1018.07 1481.67 Q1015.02 1477.06 1015.02 1468.33 Q1015.02 1459.58 1018.07 1455 Q1021.15 1450.39 1026.96 1450.39 Z\" fill=\"#000000\" fill-rule=\"nonzero\" fill-opacity=\"1\" /><path clip-path=\"url(#clip240)\" d=\"M1265.91 1455.09 L1254.1 1473.54 L1265.91 1473.54 L1265.91 1455.09 M1264.68 1451.02 L1270.56 1451.02 L1270.56 1473.54 L1275.49 1473.54 L1275.49 1477.43 L1270.56 1477.43 L1270.56 1485.58 L1265.91 1485.58 L1265.91 1477.43 L1250.31 1477.43 L1250.31 1472.92 L1264.68 1451.02 Z\" fill=\"#000000\" fill-rule=\"nonzero\" fill-opacity=\"1\" /><path clip-path=\"url(#clip240)\" d=\"M1293.22 1454.1 Q1289.61 1454.1 1287.78 1457.66 Q1285.98 1461.2 1285.98 1468.33 Q1285.98 1475.44 1287.78 1479.01 Q1289.61 1482.55 1293.22 1482.55 Q1296.86 1482.55 1298.66 1479.01 Q1300.49 1475.44 1300.49 1468.33 Q1300.49 1461.2 1298.66 1457.66 Q1296.86 1454.1 1293.22 1454.1 M1293.22 1450.39 Q1299.03 1450.39 1302.09 1455 Q1305.17 1459.58 1305.17 1468.33 Q1305.17 1477.06 1302.09 1481.67 Q1299.03 1486.25 1293.22 1486.25 Q1287.41 1486.25 1284.33 1481.67 Q1281.28 1477.06 1281.28 1468.33 Q1281.28 1459.58 1284.33 1455 Q1287.41 1450.39 1293.22 1450.39 Z\" fill=\"#000000\" fill-rule=\"nonzero\" fill-opacity=\"1\" /><path clip-path=\"url(#clip240)\" d=\"M1518.05 1451.02 L1536.4 1451.02 L1536.4 1454.96 L1522.33 1454.96 L1522.33 1463.43 Q1523.35 1463.08 1524.37 1462.92 Q1525.39 1462.73 1526.4 1462.73 Q1532.19 1462.73 1535.57 1465.9 Q1538.95 1469.08 1538.95 1474.49 Q1538.95 1480.07 1535.48 1483.17 Q1532.01 1486.25 1525.69 1486.25 Q1523.51 1486.25 1521.24 1485.88 Q1519 1485.51 1516.59 1484.77 L1516.59 1480.07 Q1518.67 1481.2 1520.9 1481.76 Q1523.12 1482.32 1525.59 1482.32 Q1529.6 1482.32 1531.94 1480.21 Q1534.28 1478.1 1534.28 1474.49 Q1534.28 1470.88 1531.94 1468.77 Q1529.6 1466.67 1525.59 1466.67 Q1523.72 1466.67 1521.84 1467.08 Q1519.99 1467.5 1518.05 1468.38 L1518.05 1451.02 Z\" fill=\"#000000\" fill-rule=\"nonzero\" fill-opacity=\"1\" /><path clip-path=\"url(#clip240)\" d=\"M1558.16 1454.1 Q1554.55 1454.1 1552.72 1457.66 Q1550.92 1461.2 1550.92 1468.33 Q1550.92 1475.44 1552.72 1479.01 Q1554.55 1482.55 1558.16 1482.55 Q1561.8 1482.55 1563.6 1479.01 Q1565.43 1475.44 1565.43 1468.33 Q1565.43 1461.2 1563.6 1457.66 Q1561.8 1454.1 1558.16 1454.1 M1558.16 1450.39 Q1563.97 1450.39 1567.03 1455 Q1570.11 1459.58 1570.11 1468.33 Q1570.11 1477.06 1567.03 1481.67 Q1563.97 1486.25 1558.16 1486.25 Q1552.35 1486.25 1549.28 1481.67 Q1546.22 1477.06 1546.22 1468.33 Q1546.22 1459.58 1549.28 1455 Q1552.35 1450.39 1558.16 1450.39 Z\" fill=\"#000000\" fill-rule=\"nonzero\" fill-opacity=\"1\" /><path clip-path=\"url(#clip240)\" d=\"M811.253 1532.4 L798.362 1549.74 L811.921 1568.04 L805.014 1568.04 L794.638 1554.04 L784.262 1568.04 L777.355 1568.04 L791.201 1549.39 L778.533 1532.4 L785.44 1532.4 L794.893 1545.1 L804.346 1532.4 L811.253 1532.4 Z\" fill=\"#000000\" fill-rule=\"nonzero\" fill-opacity=\"1\" /><path clip-path=\"url(#clip240)\" d=\"M854.985 1518.58 Q850.72 1525.9 848.651 1533.06 Q846.583 1540.23 846.583 1547.58 Q846.583 1554.93 848.651 1562.16 Q850.752 1569.35 854.985 1576.64 L849.893 1576.64 Q845.118 1569.16 842.731 1561.93 Q840.376 1554.71 840.376 1547.58 Q840.376 1540.48 842.731 1533.29 Q845.087 1526.09 849.893 1518.58 L854.985 1518.58 Z\" fill=\"#000000\" fill-rule=\"nonzero\" fill-opacity=\"1\" /><path clip-path=\"url(#clip240)\" d=\"M866.125 1518.52 L872.014 1518.52 L872.014 1547.77 L889.487 1532.4 L896.967 1532.4 L878.061 1549.07 L897.763 1568.04 L890.124 1568.04 L872.014 1550.63 L872.014 1568.04 L866.125 1568.04 L866.125 1518.52 Z\" fill=\"#000000\" fill-rule=\"nonzero\" fill-opacity=\"1\" /><path clip-path=\"url(#clip240)\" d=\"M931.851 1539.24 Q934.047 1535.29 937.103 1533.41 Q940.158 1531.54 944.296 1531.54 Q949.866 1531.54 952.89 1535.45 Q955.914 1539.33 955.914 1546.53 L955.914 1568.04 L950.025 1568.04 L950.025 1546.72 Q950.025 1541.59 948.211 1539.11 Q946.397 1536.63 942.673 1536.63 Q938.121 1536.63 935.48 1539.65 Q932.838 1542.68 932.838 1547.9 L932.838 1568.04 L926.95 1568.04 L926.95 1546.72 Q926.95 1541.56 925.135 1539.11 Q923.321 1536.63 919.534 1536.63 Q915.046 1536.63 912.404 1539.68 Q909.762 1542.71 909.762 1547.9 L909.762 1568.04 L903.874 1568.04 L903.874 1532.4 L909.762 1532.4 L909.762 1537.93 Q911.767 1534.66 914.568 1533.1 Q917.369 1531.54 921.22 1531.54 Q925.104 1531.54 927.809 1533.51 Q930.546 1535.48 931.851 1539.24 Z\" fill=\"#000000\" fill-rule=\"nonzero\" fill-opacity=\"1\" /><path clip-path=\"url(#clip240)\" d=\"M966.672 1518.58 L971.764 1518.58 Q976.538 1526.09 978.894 1533.29 Q981.281 1540.48 981.281 1547.58 Q981.281 1554.71 978.894 1561.93 Q976.538 1569.16 971.764 1576.64 L966.672 1576.64 Q970.905 1569.35 972.974 1562.16 Q975.074 1554.93 975.074 1547.58 Q975.074 1540.23 972.974 1533.06 Q970.905 1525.9 966.672 1518.58 Z\" fill=\"#000000\" fill-rule=\"nonzero\" fill-opacity=\"1\" /><polyline clip-path=\"url(#clip242)\" style=\"stroke:#000000; stroke-linecap:round; stroke-linejoin:round; stroke-width:2; stroke-opacity:0.1; fill:none\" points=\"175.445,1294.69 1583.19,1294.69 \"/>\n",
              "<polyline clip-path=\"url(#clip242)\" style=\"stroke:#000000; stroke-linecap:round; stroke-linejoin:round; stroke-width:2; stroke-opacity:0.1; fill:none\" points=\"175.445,925.421 1583.19,925.421 \"/>\n",
              "<polyline clip-path=\"url(#clip242)\" style=\"stroke:#000000; stroke-linecap:round; stroke-linejoin:round; stroke-width:2; stroke-opacity:0.1; fill:none\" points=\"175.445,556.158 1583.19,556.158 \"/>\n",
              "<polyline clip-path=\"url(#clip242)\" style=\"stroke:#000000; stroke-linecap:round; stroke-linejoin:round; stroke-width:2; stroke-opacity:0.1; fill:none\" points=\"175.445,186.894 1583.19,186.894 \"/>\n",
              "<polyline clip-path=\"url(#clip240)\" style=\"stroke:#000000; stroke-linecap:round; stroke-linejoin:round; stroke-width:4; stroke-opacity:1; fill:none\" points=\"175.445,1423.18 175.445,47.2441 \"/>\n",
              "<polyline clip-path=\"url(#clip240)\" style=\"stroke:#000000; stroke-linecap:round; stroke-linejoin:round; stroke-width:4; stroke-opacity:1; fill:none\" points=\"175.445,1294.69 187.664,1294.69 \"/>\n",
              "<polyline clip-path=\"url(#clip240)\" style=\"stroke:#000000; stroke-linecap:round; stroke-linejoin:round; stroke-width:4; stroke-opacity:1; fill:none\" points=\"175.445,925.421 187.664,925.421 \"/>\n",
              "<polyline clip-path=\"url(#clip240)\" style=\"stroke:#000000; stroke-linecap:round; stroke-linejoin:round; stroke-width:4; stroke-opacity:1; fill:none\" points=\"175.445,556.158 187.664,556.158 \"/>\n",
              "<polyline clip-path=\"url(#clip240)\" style=\"stroke:#000000; stroke-linecap:round; stroke-linejoin:round; stroke-width:4; stroke-opacity:1; fill:none\" points=\"175.445,186.894 187.664,186.894 \"/>\n",
              "<path clip-path=\"url(#clip240)\" d=\"M129.862 1281.48 L118.056 1299.93 L129.862 1299.93 L129.862 1281.48 M128.635 1277.41 L134.515 1277.41 L134.515 1299.93 L139.445 1299.93 L139.445 1303.82 L134.515 1303.82 L134.515 1311.97 L129.862 1311.97 L129.862 1303.82 L114.26 1303.82 L114.26 1299.3 L128.635 1277.41 Z\" fill=\"#000000\" fill-rule=\"nonzero\" fill-opacity=\"1\" /><path clip-path=\"url(#clip240)\" d=\"M118.543 908.141 L136.899 908.141 L136.899 912.077 L122.825 912.077 L122.825 920.549 Q123.843 920.201 124.862 920.039 Q125.88 919.854 126.899 919.854 Q132.686 919.854 136.066 923.026 Q139.445 926.197 139.445 931.613 Q139.445 937.192 135.973 940.294 Q132.501 943.373 126.181 943.373 Q124.005 943.373 121.737 943.002 Q119.492 942.632 117.084 941.891 L117.084 937.192 Q119.168 938.326 121.39 938.882 Q123.612 939.438 126.089 939.438 Q130.093 939.438 132.431 937.331 Q134.769 935.225 134.769 931.613 Q134.769 928.002 132.431 925.896 Q130.093 923.789 126.089 923.789 Q124.214 923.789 122.339 924.206 Q120.487 924.623 118.543 925.502 L118.543 908.141 Z\" fill=\"#000000\" fill-rule=\"nonzero\" fill-opacity=\"1\" /><path clip-path=\"url(#clip240)\" d=\"M127.917 554.294 Q124.769 554.294 122.918 556.447 Q121.089 558.6 121.089 562.35 Q121.089 566.077 122.918 568.253 Q124.769 570.405 127.917 570.405 Q131.066 570.405 132.894 568.253 Q134.746 566.077 134.746 562.35 Q134.746 558.6 132.894 556.447 Q131.066 554.294 127.917 554.294 M137.2 539.642 L137.2 543.901 Q135.441 543.067 133.635 542.628 Q131.853 542.188 130.093 542.188 Q125.464 542.188 123.01 545.313 Q120.58 548.438 120.232 554.757 Q121.598 552.743 123.658 551.679 Q125.718 550.591 128.195 550.591 Q133.404 550.591 136.413 553.762 Q139.445 556.91 139.445 562.35 Q139.445 567.674 136.297 570.891 Q133.149 574.109 127.917 574.109 Q121.922 574.109 118.751 569.526 Q115.58 564.919 115.58 556.192 Q115.58 547.998 119.468 543.137 Q123.357 538.253 129.908 538.253 Q131.667 538.253 133.45 538.6 Q135.255 538.947 137.2 539.642 Z\" fill=\"#000000\" fill-rule=\"nonzero\" fill-opacity=\"1\" /><path clip-path=\"url(#clip240)\" d=\"M117.223 169.614 L139.445 169.614 L139.445 171.605 L126.899 204.174 L122.015 204.174 L133.82 173.549 L117.223 173.549 L117.223 169.614 Z\" fill=\"#000000\" fill-rule=\"nonzero\" fill-opacity=\"1\" /><path clip-path=\"url(#clip240)\" d=\"M21.7677 1131.83 L58.7206 1131.83 L58.7206 1124.06 Q58.7206 1114.23 54.2646 1109.67 Q49.8086 1105.09 40.1964 1105.09 Q30.6479 1105.09 26.2237 1109.67 Q21.7677 1114.23 21.7677 1124.06 L21.7677 1131.83 M16.4842 1138.26 L16.4842 1125.05 Q16.4842 1111.23 22.2451 1104.77 Q27.9743 1098.31 40.1964 1098.31 Q52.4822 1098.31 58.2432 1104.8 Q64.0042 1111.3 64.0042 1125.05 L64.0042 1138.26 L16.4842 1138.26 Z\" fill=\"#000000\" fill-rule=\"nonzero\" fill-opacity=\"1\" /><path clip-path=\"url(#clip240)\" d=\"M20.8447 1068.77 Q20.8447 1075.78 26.0645 1079.91 Q31.2844 1084.02 40.2919 1084.02 Q49.2675 1084.02 54.4874 1079.91 Q59.7073 1075.78 59.7073 1068.77 Q59.7073 1061.77 54.4874 1057.7 Q49.2675 1053.59 40.2919 1053.59 Q31.2844 1053.59 26.0645 1057.7 Q20.8447 1061.77 20.8447 1068.77 M15.6248 1068.77 Q15.6248 1058.78 22.3406 1052.8 Q29.0246 1046.81 40.2919 1046.81 Q51.5274 1046.81 58.2432 1052.8 Q64.9272 1058.78 64.9272 1068.77 Q64.9272 1078.8 58.2432 1084.82 Q51.5592 1090.8 40.2919 1090.8 Q29.0246 1090.8 22.3406 1084.82 Q15.6248 1078.8 15.6248 1068.77 Z\" fill=\"#000000\" fill-rule=\"nonzero\" fill-opacity=\"1\" /><path clip-path=\"url(#clip240)\" d=\"M20.1444 980.451 L26.9239 980.451 Q23.9002 983.697 22.4043 987.389 Q20.9083 991.05 20.9083 995.187 Q20.9083 1003.34 25.9054 1007.66 Q30.8707 1011.99 40.2919 1011.99 Q49.6813 1011.99 54.6784 1007.66 Q59.6436 1003.34 59.6436 995.187 Q59.6436 991.05 58.1477 987.389 Q56.6518 983.697 53.6281 980.451 L60.3439 980.451 Q62.6355 983.825 63.7814 987.612 Q64.9272 991.368 64.9272 995.569 Q64.9272 1006.36 58.3387 1012.57 Q51.7183 1018.77 40.2919 1018.77 Q28.8336 1018.77 22.2451 1012.57 Q15.6248 1006.36 15.6248 995.569 Q15.6248 991.304 16.7706 987.549 Q17.8846 983.761 20.1444 980.451 Z\" fill=\"#000000\" fill-rule=\"nonzero\" fill-opacity=\"1\" /><path clip-path=\"url(#clip240)\" d=\"M32.4621 956.961 Q32.4621 961.672 36.1542 964.409 Q39.8145 967.146 46.212 967.146 Q52.6095 967.146 56.3017 964.441 Q59.9619 961.704 59.9619 956.961 Q59.9619 952.283 56.2698 949.545 Q52.5777 946.808 46.212 946.808 Q39.8781 946.808 36.186 949.545 Q32.4621 952.283 32.4621 956.961 M27.4968 956.961 Q27.4968 949.323 32.4621 944.962 Q37.4273 940.601 46.212 940.601 Q54.9649 940.601 59.9619 944.962 Q64.9272 949.323 64.9272 956.961 Q64.9272 964.632 59.9619 968.993 Q54.9649 973.321 46.212 973.321 Q37.4273 973.321 32.4621 968.993 Q27.4968 964.632 27.4968 956.961 Z\" fill=\"#000000\" fill-rule=\"nonzero\" fill-opacity=\"1\" /><path clip-path=\"url(#clip240)\" d=\"M42.4881 901.261 L64.0042 901.261 L64.0042 907.118 L42.679 907.118 Q37.6183 907.118 35.1038 909.091 Q32.5894 911.065 32.5894 915.011 Q32.5894 919.754 35.6131 922.491 Q38.6368 925.228 43.8567 925.228 L64.0042 925.228 L64.0042 931.117 L28.3562 931.117 L28.3562 925.228 L33.8944 925.228 Q30.6797 923.128 29.0883 920.295 Q27.4968 917.43 27.4968 913.706 Q27.4968 907.563 31.3163 904.412 Q35.1038 901.261 42.4881 901.261 Z\" fill=\"#000000\" fill-rule=\"nonzero\" fill-opacity=\"1\" /><path clip-path=\"url(#clip240)\" d=\"M29.7248 863.927 L35.1993 863.927 Q33.8307 866.409 33.1623 868.924 Q32.4621 871.406 32.4621 873.953 Q32.4621 879.65 36.0905 882.801 Q39.6872 885.952 46.212 885.952 Q52.7369 885.952 56.3653 882.801 Q59.9619 879.65 59.9619 873.953 Q59.9619 871.406 59.2935 868.924 Q58.5933 866.409 57.2247 863.927 L62.6355 863.927 Q63.7814 866.377 64.3543 869.019 Q64.9272 871.629 64.9272 874.589 Q64.9272 882.642 59.8664 887.384 Q54.8057 892.127 46.212 892.127 Q37.491 892.127 32.4939 887.352 Q27.4968 882.546 27.4968 874.207 Q27.4968 871.502 28.0697 868.924 Q28.6108 866.346 29.7248 863.927 Z\" fill=\"#000000\" fill-rule=\"nonzero\" fill-opacity=\"1\" /><path clip-path=\"url(#clip240)\" d=\"M44.7161 823.25 L47.5806 823.25 L47.5806 850.177 Q53.6281 849.795 56.8109 846.548 Q59.9619 843.27 59.9619 837.445 Q59.9619 834.071 59.1344 830.92 Q58.3069 827.738 56.6518 824.618 L62.1899 824.618 Q63.5267 827.769 64.227 831.08 Q64.9272 834.39 64.9272 837.795 Q64.9272 846.325 59.9619 851.322 Q54.9967 856.288 46.5303 856.288 Q37.7774 856.288 32.6531 851.577 Q27.4968 846.835 27.4968 838.814 Q27.4968 831.621 32.1438 827.451 Q36.7589 823.25 44.7161 823.25 M42.9973 829.106 Q38.1912 829.17 35.3266 831.812 Q32.4621 834.422 32.4621 838.75 Q32.4621 843.652 35.2312 846.612 Q38.0002 849.54 43.0292 849.986 L42.9973 829.106 Z\" fill=\"#000000\" fill-rule=\"nonzero\" fill-opacity=\"1\" /><path clip-path=\"url(#clip240)\" d=\"M42.4881 784.005 L64.0042 784.005 L64.0042 789.862 L42.679 789.862 Q37.6183 789.862 35.1038 791.835 Q32.5894 793.808 32.5894 797.755 Q32.5894 802.497 35.6131 805.235 Q38.6368 807.972 43.8567 807.972 L64.0042 807.972 L64.0042 813.86 L28.3562 813.86 L28.3562 807.972 L33.8944 807.972 Q30.6797 805.871 29.0883 803.039 Q27.4968 800.174 27.4968 796.45 Q27.4968 790.307 31.3163 787.156 Q35.1038 784.005 42.4881 784.005 Z\" fill=\"#000000\" fill-rule=\"nonzero\" fill-opacity=\"1\" /><path clip-path=\"url(#clip240)\" d=\"M18.2347 766.531 L28.3562 766.531 L28.3562 754.468 L32.9077 754.468 L32.9077 766.531 L52.2594 766.531 Q56.6199 766.531 57.8613 765.354 Q59.1026 764.144 59.1026 760.484 L59.1026 754.468 L64.0042 754.468 L64.0042 760.484 Q64.0042 767.263 61.4897 769.841 Q58.9434 772.42 52.2594 772.42 L32.9077 772.42 L32.9077 776.716 L28.3562 776.716 L28.3562 772.42 L18.2347 772.42 L18.2347 766.531 Z\" fill=\"#000000\" fill-rule=\"nonzero\" fill-opacity=\"1\" /><path clip-path=\"url(#clip240)\" d=\"M33.8307 726.109 Q33.2578 727.096 33.0032 728.273 Q32.7167 729.419 32.7167 730.82 Q32.7167 735.785 35.9632 738.458 Q39.1779 741.1 45.2253 741.1 L64.0042 741.1 L64.0042 746.989 L28.3562 746.989 L28.3562 741.1 L33.8944 741.1 Q30.6479 739.254 29.0883 736.294 Q27.4968 733.334 27.4968 729.101 Q27.4968 728.496 27.5923 727.764 Q27.656 727.032 27.8151 726.141 L33.8307 726.109 Z\" fill=\"#000000\" fill-rule=\"nonzero\" fill-opacity=\"1\" /><path clip-path=\"url(#clip240)\" d=\"M46.0847 703.765 Q46.0847 710.863 47.7079 713.6 Q49.3312 716.338 53.2461 716.338 Q56.3653 716.338 58.2114 714.301 Q60.0256 712.232 60.0256 708.699 Q60.0256 703.829 56.5881 700.901 Q53.1188 697.941 47.3897 697.941 L46.0847 697.941 L46.0847 703.765 M43.6657 692.084 L64.0042 692.084 L64.0042 697.941 L58.5933 697.941 Q61.8398 699.946 63.3994 702.938 Q64.9272 705.93 64.9272 710.258 Q64.9272 715.733 61.8716 718.979 Q58.7843 722.194 53.6281 722.194 Q47.6125 722.194 44.5569 718.184 Q41.5014 714.141 41.5014 706.153 L41.5014 697.941 L40.9285 697.941 Q36.8862 697.941 34.6901 700.614 Q32.4621 703.256 32.4621 708.062 Q32.4621 711.118 33.1941 714.014 Q33.9262 716.911 35.3903 719.584 L29.9795 719.584 Q28.7381 716.369 28.1334 713.346 Q27.4968 710.322 27.4968 707.457 Q27.4968 699.723 31.5072 695.904 Q35.5176 692.084 43.6657 692.084 Z\" fill=\"#000000\" fill-rule=\"nonzero\" fill-opacity=\"1\" /><path clip-path=\"url(#clip240)\" d=\"M18.2347 674.228 L28.3562 674.228 L28.3562 662.165 L32.9077 662.165 L32.9077 674.228 L52.2594 674.228 Q56.6199 674.228 57.8613 673.051 Q59.1026 671.841 59.1026 668.181 L59.1026 662.165 L64.0042 662.165 L64.0042 668.181 Q64.0042 674.961 61.4897 677.539 Q58.9434 680.117 52.2594 680.117 L32.9077 680.117 L32.9077 684.414 L28.3562 684.414 L28.3562 680.117 L18.2347 680.117 L18.2347 674.228 Z\" fill=\"#000000\" fill-rule=\"nonzero\" fill-opacity=\"1\" /><path clip-path=\"url(#clip240)\" d=\"M28.3562 654.463 L28.3562 648.607 L64.0042 648.607 L64.0042 654.463 L28.3562 654.463 M14.479 654.463 L14.479 648.607 L21.895 648.607 L21.895 654.463 L14.479 654.463 Z\" fill=\"#000000\" fill-rule=\"nonzero\" fill-opacity=\"1\" /><path clip-path=\"url(#clip240)\" d=\"M32.4621 622.539 Q32.4621 627.25 36.1542 629.987 Q39.8145 632.724 46.212 632.724 Q52.6095 632.724 56.3017 630.019 Q59.9619 627.281 59.9619 622.539 Q59.9619 617.86 56.2698 615.123 Q52.5777 612.386 46.212 612.386 Q39.8781 612.386 36.186 615.123 Q32.4621 617.86 32.4621 622.539 M27.4968 622.539 Q27.4968 614.9 32.4621 610.54 Q37.4273 606.179 46.212 606.179 Q54.9649 606.179 59.9619 610.54 Q64.9272 614.9 64.9272 622.539 Q64.9272 630.21 59.9619 634.57 Q54.9649 638.899 46.212 638.899 Q37.4273 638.899 32.4621 634.57 Q27.4968 630.21 27.4968 622.539 Z\" fill=\"#000000\" fill-rule=\"nonzero\" fill-opacity=\"1\" /><path clip-path=\"url(#clip240)\" d=\"M42.4881 566.839 L64.0042 566.839 L64.0042 572.695 L42.679 572.695 Q37.6183 572.695 35.1038 574.669 Q32.5894 576.642 32.5894 580.589 Q32.5894 585.331 35.6131 588.069 Q38.6368 590.806 43.8567 590.806 L64.0042 590.806 L64.0042 596.694 L28.3562 596.694 L28.3562 590.806 L33.8944 590.806 Q30.6797 588.705 29.0883 585.872 Q27.4968 583.008 27.4968 579.284 Q27.4968 573.141 31.3163 569.99 Q35.1038 566.839 42.4881 566.839 Z\" fill=\"#000000\" fill-rule=\"nonzero\" fill-opacity=\"1\" /><path clip-path=\"url(#clip240)\" d=\"M14.5426 520.369 Q21.8632 524.634 29.0246 526.703 Q36.186 528.772 43.5384 528.772 Q50.8908 528.772 58.1159 526.703 Q65.3091 524.603 72.5979 520.369 L72.5979 525.462 Q65.1182 530.236 57.8931 532.623 Q50.668 534.979 43.5384 534.979 Q36.4406 534.979 29.2474 532.623 Q22.0542 530.268 14.5426 525.462 L14.5426 520.369 Z\" fill=\"#000000\" fill-rule=\"nonzero\" fill-opacity=\"1\" /><path clip-path=\"url(#clip240)\" d=\"M35.1993 481.252 Q31.2526 479.056 29.3747 476 Q27.4968 472.945 27.4968 468.807 Q27.4968 463.237 31.4117 460.213 Q35.2948 457.19 42.4881 457.19 L64.0042 457.19 L64.0042 463.078 L42.679 463.078 Q37.5546 463.078 35.072 464.892 Q32.5894 466.706 32.5894 470.43 Q32.5894 474.982 35.6131 477.624 Q38.6368 480.265 43.8567 480.265 L64.0042 480.265 L64.0042 486.154 L42.679 486.154 Q37.5228 486.154 35.072 487.968 Q32.5894 489.782 32.5894 493.57 Q32.5894 498.058 35.6449 500.699 Q38.6686 503.341 43.8567 503.341 L64.0042 503.341 L64.0042 509.229 L28.3562 509.229 L28.3562 503.341 L33.8944 503.341 Q30.616 501.336 29.0564 498.535 Q27.4968 495.734 27.4968 491.883 Q27.4968 488 29.4702 485.294 Q31.4436 482.557 35.1993 481.252 Z\" fill=\"#000000\" fill-rule=\"nonzero\" fill-opacity=\"1\" /><path clip-path=\"url(#clip240)\" d=\"M45.7664 422.051 Q39.4007 422.051 35.8996 424.693 Q32.3984 427.303 32.3984 432.045 Q32.3984 436.756 35.8996 439.398 Q39.4007 442.008 45.7664 442.008 Q52.1003 442.008 55.6014 439.398 Q59.1026 436.756 59.1026 432.045 Q59.1026 427.303 55.6014 424.693 Q52.1003 422.051 45.7664 422.051 M59.58 416.195 Q68.683 416.195 73.1071 420.237 Q77.5631 424.279 77.5631 432.618 Q77.5631 435.705 77.0857 438.443 Q76.6401 441.18 75.6852 443.758 L69.9879 443.758 Q71.3884 441.18 72.0568 438.666 Q72.7252 436.151 72.7252 433.541 Q72.7252 427.78 69.7015 424.916 Q66.7096 422.051 60.6303 422.051 L57.7339 422.051 Q60.885 423.865 62.4446 426.698 Q64.0042 429.531 64.0042 433.477 Q64.0042 440.034 59.0071 444.045 Q54.01 448.055 45.7664 448.055 Q37.491 448.055 32.4939 444.045 Q27.4968 440.034 27.4968 433.477 Q27.4968 429.531 29.0564 426.698 Q30.616 423.865 33.7671 422.051 L28.3562 422.051 L28.3562 416.195 L59.58 416.195 Z\" fill=\"#000000\" fill-rule=\"nonzero\" fill-opacity=\"1\" /><path clip-path=\"url(#clip240)\" d=\"M16.4842 393.724 L16.4842 388.313 L70.0516 404.864 L70.0516 410.274 L16.4842 393.724 Z\" fill=\"#000000\" fill-rule=\"nonzero\" fill-opacity=\"1\" /><path clip-path=\"url(#clip240)\" d=\"M16.4842 381.915 L16.4842 375.486 L58.5933 375.486 L58.5933 352.347 L64.0042 352.347 L64.0042 381.915 L16.4842 381.915 Z\" fill=\"#000000\" fill-rule=\"nonzero\" fill-opacity=\"1\" /><path clip-path=\"url(#clip240)\" d=\"M14.5426 346.777 L14.5426 341.684 Q22.0542 336.91 29.2474 334.554 Q36.4406 332.167 43.5384 332.167 Q50.668 332.167 57.8931 334.554 Q65.1182 336.91 72.5979 341.684 L72.5979 346.777 Q65.3091 342.543 58.1159 340.475 Q50.8908 338.374 43.5384 338.374 Q36.186 338.374 29.0246 340.475 Q21.8632 342.543 14.5426 346.777 Z\" fill=\"#000000\" fill-rule=\"nonzero\" fill-opacity=\"1\" /><polyline clip-path=\"url(#clip242)\" style=\"stroke:#009af9; stroke-linecap:round; stroke-linejoin:round; stroke-width:4; stroke-opacity:1; fill:none\" points=\"215.287,86.1857 241.848,290.891 268.41,462.831 294.971,605.645 321.532,722.613 348.093,816.686 374.655,890.525 401.216,946.52 427.777,986.82 454.338,1013.36 480.9,1027.86 507.461,1031.88 534.022,1026.81 560.583,1013.9 587.144,994.251 613.706,968.86 613.706,963.647 640.267,1086 666.828,1183.14 693.389,1258.02 719.951,1313.3 746.512,1351.37 773.073,1374.38 799.634,1384.24 826.196,1382.68 852.757,1371.24 879.318,1351.3 905.879,1324.09 932.441,1290.7 959.002,1252.13 985.563,1209.22 1012.12,1162.76 1038.69,1113.43 1065.25,1061.83 1091.81,1008.49 1118.37,953.892 1144.93,898.437 1171.49,842.487 1198.05,786.356 1224.61,730.316 1251.18,674.602 1277.74,619.415 1304.3,564.929 1330.86,511.289 1357.42,458.618 1383.98,407.017 1410.54,356.571 1437.1,307.345 1463.67,259.392 1490.23,212.753 1516.79,167.454 1543.35,123.517 \"/>\n",
              "<polyline clip-path=\"url(#clip242)\" style=\"stroke:#ff0000; stroke-linecap:round; stroke-linejoin:round; stroke-width:8; stroke-opacity:1; fill:none\" points=\"-1232.3,1294.69 2990.94,1294.69 \"/>\n",
              "<path clip-path=\"url(#clip240)\" d=\"M1655.77 832.916 L2352.76 832.916 L2352.76 677.396 L1655.77 677.396  Z\" fill=\"#ffffff\" fill-rule=\"evenodd\" fill-opacity=\"1\"/>\n",
              "<polyline clip-path=\"url(#clip240)\" style=\"stroke:#000000; stroke-linecap:round; stroke-linejoin:round; stroke-width:4; stroke-opacity:1; fill:none\" points=\"1655.77,832.916 2352.76,832.916 2352.76,677.396 1655.77,677.396 1655.77,832.916 \"/>\n",
              "<polyline clip-path=\"url(#clip240)\" style=\"stroke:#009af9; stroke-linecap:round; stroke-linejoin:round; stroke-width:4; stroke-opacity:1; fill:none\" points=\"1679.96,729.236 1825.11,729.236 \"/>\n",
              "<path clip-path=\"url(#clip240)\" d=\"M1849.31 710.498 L1859.12 710.498 L1859.12 713.808 L1853.57 713.808 L1853.57 749.456 L1859.12 749.456 L1859.12 752.766 L1849.31 752.766 L1849.31 710.498 Z\" fill=\"#000000\" fill-rule=\"nonzero\" fill-opacity=\"1\" /><path clip-path=\"url(#clip240)\" d=\"M1872.22 711.956 L1872.22 724.804 L1868.29 724.804 L1868.29 711.956 L1872.22 711.956 M1880.97 711.956 L1880.97 724.804 L1877.04 724.804 L1877.04 711.956 L1880.97 711.956 Z\" fill=\"#000000\" fill-rule=\"nonzero\" fill-opacity=\"1\" /><path clip-path=\"url(#clip240)\" d=\"M1894.86 715.799 L1894.86 742.674 L1900.51 742.674 Q1907.66 742.674 1910.97 739.433 Q1914.31 736.192 1914.31 729.202 Q1914.31 722.257 1910.97 719.04 Q1907.66 715.799 1900.51 715.799 L1894.86 715.799 M1890.19 711.956 L1899.79 711.956 Q1909.84 711.956 1914.54 716.146 Q1919.24 720.313 1919.24 729.202 Q1919.24 738.137 1914.51 742.327 Q1909.79 746.516 1899.79 746.516 L1890.19 746.516 L1890.19 711.956 Z\" fill=\"#000000\" fill-rule=\"nonzero\" fill-opacity=\"1\" /><path clip-path=\"url(#clip240)\" d=\"M1940.72 715.128 Q1935.63 715.128 1932.62 718.924 Q1929.63 722.72 1929.63 729.271 Q1929.63 735.799 1932.62 739.595 Q1935.63 743.392 1940.72 743.392 Q1945.81 743.392 1948.77 739.595 Q1951.76 735.799 1951.76 729.271 Q1951.76 722.72 1948.77 718.924 Q1945.81 715.128 1940.72 715.128 M1940.72 711.331 Q1947.99 711.331 1952.34 716.216 Q1956.69 721.077 1956.69 729.271 Q1956.69 737.442 1952.34 742.327 Q1947.99 747.188 1940.72 747.188 Q1933.43 747.188 1929.05 742.327 Q1924.7 737.466 1924.7 729.271 Q1924.7 721.077 1929.05 716.216 Q1933.43 711.331 1940.72 711.331 Z\" fill=\"#000000\" fill-rule=\"nonzero\" fill-opacity=\"1\" /><path clip-path=\"url(#clip240)\" d=\"M1967.85 711.956 L1967.85 724.804 L1963.91 724.804 L1963.91 711.956 L1967.85 711.956 M1976.6 711.956 L1976.6 724.804 L1972.66 724.804 L1972.66 711.956 L1976.6 711.956 Z\" fill=\"#000000\" fill-rule=\"nonzero\" fill-opacity=\"1\" /><path clip-path=\"url(#clip240)\" d=\"M1995.58 710.498 L1995.58 752.766 L1985.76 752.766 L1985.76 749.456 L1991.3 749.456 L1991.3 713.808 L1985.76 713.808 L1985.76 710.498 L1995.58 710.498 Z\" fill=\"#000000\" fill-rule=\"nonzero\" fill-opacity=\"1\" /><polyline clip-path=\"url(#clip240)\" style=\"stroke:#ff0000; stroke-linecap:round; stroke-linejoin:round; stroke-width:8; stroke-opacity:1; fill:none\" points=\"1679.96,781.076 1825.11,781.076 \"/>\n",
              "<path clip-path=\"url(#clip240)\" d=\"M1865.7 782.153 Q1867.2 782.662 1868.61 784.329 Q1870.05 785.995 1871.48 788.912 L1876.23 798.356 L1871.2 798.356 L1866.78 789.491 Q1865.07 786.019 1863.45 784.884 Q1861.85 783.75 1859.08 783.75 L1853.98 783.75 L1853.98 798.356 L1849.31 798.356 L1849.31 763.796 L1859.86 763.796 Q1865.79 763.796 1868.7 766.273 Q1871.62 768.75 1871.62 773.75 Q1871.62 777.014 1870.09 779.167 Q1868.59 781.32 1865.7 782.153 M1853.98 767.639 L1853.98 779.908 L1859.86 779.908 Q1863.24 779.908 1864.95 778.357 Q1866.69 776.783 1866.69 773.75 Q1866.69 770.718 1864.95 769.19 Q1863.24 767.639 1859.86 767.639 L1853.98 767.639 Z\" fill=\"#000000\" fill-rule=\"nonzero\" fill-opacity=\"1\" /><path clip-path=\"url(#clip240)\" d=\"M1902.11 784.329 L1902.11 786.412 L1882.52 786.412 Q1882.8 790.81 1885.16 793.125 Q1887.55 795.417 1891.78 795.417 Q1894.24 795.417 1896.53 794.815 Q1898.84 794.213 1901.11 793.009 L1901.11 797.037 Q1898.82 798.009 1896.41 798.519 Q1894.01 799.028 1891.53 799.028 Q1885.33 799.028 1881.69 795.417 Q1878.08 791.806 1878.08 785.648 Q1878.08 779.283 1881.51 775.556 Q1884.95 771.806 1890.79 771.806 Q1896.02 771.806 1899.05 775.185 Q1902.11 778.542 1902.11 784.329 M1897.85 783.079 Q1897.8 779.583 1895.88 777.5 Q1893.98 775.417 1890.83 775.417 Q1887.27 775.417 1885.12 777.431 Q1882.99 779.445 1882.66 783.102 L1897.85 783.079 Z\" fill=\"#000000\" fill-rule=\"nonzero\" fill-opacity=\"1\" /><path clip-path=\"url(#clip240)\" d=\"M1926.16 785.093 Q1926.16 780.463 1924.24 777.917 Q1922.34 775.371 1918.89 775.371 Q1915.46 775.371 1913.54 777.917 Q1911.64 780.463 1911.64 785.093 Q1911.64 789.699 1913.54 792.245 Q1915.46 794.792 1918.89 794.792 Q1922.34 794.792 1924.24 792.245 Q1926.16 789.699 1926.16 785.093 M1930.42 795.139 Q1930.42 801.759 1927.48 804.977 Q1924.54 808.218 1918.47 808.218 Q1916.23 808.218 1914.24 807.87 Q1912.25 807.546 1910.37 806.852 L1910.37 802.708 Q1912.25 803.727 1914.08 804.213 Q1915.9 804.699 1917.8 804.699 Q1921.99 804.699 1924.07 802.5 Q1926.16 800.324 1926.16 795.903 L1926.16 793.796 Q1924.84 796.088 1922.78 797.222 Q1920.72 798.356 1917.85 798.356 Q1913.08 798.356 1910.16 794.722 Q1907.25 791.088 1907.25 785.093 Q1907.25 779.074 1910.16 775.44 Q1913.08 771.806 1917.85 771.806 Q1920.72 771.806 1922.78 772.94 Q1924.84 774.074 1926.16 776.366 L1926.16 772.431 L1930.42 772.431 L1930.42 795.139 Z\" fill=\"#000000\" fill-rule=\"nonzero\" fill-opacity=\"1\" /><path clip-path=\"url(#clip240)\" d=\"M1938.75 788.125 L1938.75 772.431 L1943.01 772.431 L1943.01 787.963 Q1943.01 791.644 1944.45 793.495 Q1945.88 795.324 1948.75 795.324 Q1952.2 795.324 1954.19 793.125 Q1956.2 790.926 1956.2 787.13 L1956.2 772.431 L1960.46 772.431 L1960.46 798.356 L1956.2 798.356 L1956.2 794.375 Q1954.65 796.736 1952.59 797.894 Q1950.56 799.028 1947.85 799.028 Q1943.38 799.028 1941.07 796.25 Q1938.75 793.472 1938.75 788.125 M1949.47 771.806 L1949.47 771.806 Z\" fill=\"#000000\" fill-rule=\"nonzero\" fill-opacity=\"1\" /><path clip-path=\"url(#clip240)\" d=\"M1969.24 762.338 L1973.5 762.338 L1973.5 798.356 L1969.24 798.356 L1969.24 762.338 Z\" fill=\"#000000\" fill-rule=\"nonzero\" fill-opacity=\"1\" /><path clip-path=\"url(#clip240)\" d=\"M1994.19 785.324 Q1989.03 785.324 1987.04 786.505 Q1985.05 787.685 1985.05 790.532 Q1985.05 792.801 1986.53 794.144 Q1988.03 795.463 1990.6 795.463 Q1994.14 795.463 1996.27 792.963 Q1998.43 790.44 1998.43 786.273 L1998.43 785.324 L1994.19 785.324 M2002.69 783.565 L2002.69 798.356 L1998.43 798.356 L1998.43 794.421 Q1996.97 796.782 1994.79 797.917 Q1992.62 799.028 1989.47 799.028 Q1985.49 799.028 1983.13 796.806 Q1980.79 794.56 1980.79 790.81 Q1980.79 786.435 1983.7 784.213 Q1986.64 781.991 1992.45 781.991 L1998.43 781.991 L1998.43 781.574 Q1998.43 778.634 1996.48 777.037 Q1994.56 775.417 1991.07 775.417 Q1988.84 775.417 1986.74 775.949 Q1984.63 776.482 1982.69 777.546 L1982.69 773.611 Q1985.02 772.708 1987.22 772.269 Q1989.42 771.806 1991.51 771.806 Q1997.13 771.806 1999.91 774.722 Q2002.69 777.639 2002.69 783.565 Z\" fill=\"#000000\" fill-rule=\"nonzero\" fill-opacity=\"1\" /><path clip-path=\"url(#clip240)\" d=\"M2015.67 765.07 L2015.67 772.431 L2024.44 772.431 L2024.44 775.741 L2015.67 775.741 L2015.67 789.815 Q2015.67 792.986 2016.53 793.889 Q2017.41 794.792 2020.07 794.792 L2024.44 794.792 L2024.44 798.356 L2020.07 798.356 Q2015.14 798.356 2013.26 796.528 Q2011.39 794.676 2011.39 789.815 L2011.39 775.741 L2008.26 775.741 L2008.26 772.431 L2011.39 772.431 L2011.39 765.07 L2015.67 765.07 Z\" fill=\"#000000\" fill-rule=\"nonzero\" fill-opacity=\"1\" /><path clip-path=\"url(#clip240)\" d=\"M2040.09 775.417 Q2036.67 775.417 2034.68 778.102 Q2032.69 780.764 2032.69 785.417 Q2032.69 790.07 2034.65 792.755 Q2036.64 795.417 2040.09 795.417 Q2043.5 795.417 2045.49 792.732 Q2047.48 790.046 2047.48 785.417 Q2047.48 780.81 2045.49 778.125 Q2043.5 775.417 2040.09 775.417 M2040.09 771.806 Q2045.65 771.806 2048.82 775.417 Q2051.99 779.028 2051.99 785.417 Q2051.99 791.782 2048.82 795.417 Q2045.65 799.028 2040.09 799.028 Q2034.51 799.028 2031.34 795.417 Q2028.19 791.782 2028.19 785.417 Q2028.19 779.028 2031.34 775.417 Q2034.51 771.806 2040.09 771.806 Z\" fill=\"#000000\" fill-rule=\"nonzero\" fill-opacity=\"1\" /><path clip-path=\"url(#clip240)\" d=\"M2074.07 776.412 Q2073.36 775.996 2072.5 775.81 Q2071.67 775.602 2070.65 775.602 Q2067.04 775.602 2065.09 777.963 Q2063.17 780.301 2063.17 784.699 L2063.17 798.356 L2058.89 798.356 L2058.89 772.431 L2063.17 772.431 L2063.17 776.458 Q2064.51 774.097 2066.67 772.963 Q2068.82 771.806 2071.9 771.806 Q2072.34 771.806 2072.87 771.875 Q2073.4 771.921 2074.05 772.037 L2074.07 776.412 Z\" fill=\"#000000\" fill-rule=\"nonzero\" fill-opacity=\"1\" /><path clip-path=\"url(#clip240)\" d=\"M2089.33 800.764 Q2087.52 805.393 2085.81 806.806 Q2084.1 808.218 2081.23 808.218 L2077.82 808.218 L2077.82 804.653 L2080.32 804.653 Q2082.08 804.653 2083.06 803.819 Q2084.03 802.986 2085.21 799.884 L2085.97 797.94 L2075.49 772.431 L2080 772.431 L2088.1 792.708 L2096.2 772.431 L2100.72 772.431 L2089.33 800.764 Z\" fill=\"#000000\" fill-rule=\"nonzero\" fill-opacity=\"1\" /><path clip-path=\"url(#clip240)\" d=\"M2142.57 764.931 L2142.57 769.491 Q2139.91 768.218 2137.55 767.593 Q2135.18 766.968 2132.99 766.968 Q2129.17 766.968 2127.08 768.449 Q2125.02 769.931 2125.02 772.662 Q2125.02 774.954 2126.39 776.134 Q2127.78 777.292 2131.62 778.009 L2134.44 778.588 Q2139.68 779.583 2142.15 782.107 Q2144.65 784.607 2144.65 788.82 Q2144.65 793.843 2141.27 796.435 Q2137.92 799.028 2131.41 799.028 Q2128.96 799.028 2126.18 798.472 Q2123.43 797.917 2120.46 796.829 L2120.46 792.014 Q2123.31 793.611 2126.04 794.421 Q2128.77 795.232 2131.41 795.232 Q2135.42 795.232 2137.59 793.657 Q2139.77 792.083 2139.77 789.167 Q2139.77 786.62 2138.19 785.185 Q2136.64 783.75 2133.08 783.033 L2130.23 782.477 Q2125 781.435 2122.66 779.213 Q2120.32 776.991 2120.32 773.033 Q2120.32 768.449 2123.54 765.81 Q2126.78 763.171 2132.45 763.171 Q2134.88 763.171 2137.41 763.611 Q2139.93 764.051 2142.57 764.931 Z\" fill=\"#000000\" fill-rule=\"nonzero\" fill-opacity=\"1\" /><path clip-path=\"url(#clip240)\" d=\"M2155.97 765.07 L2155.97 772.431 L2164.74 772.431 L2164.74 775.741 L2155.97 775.741 L2155.97 789.815 Q2155.97 792.986 2156.83 793.889 Q2157.71 794.792 2160.37 794.792 L2164.74 794.792 L2164.74 798.356 L2160.37 798.356 Q2155.44 798.356 2153.56 796.528 Q2151.69 794.676 2151.69 789.815 L2151.69 775.741 L2148.56 775.741 L2148.56 772.431 L2151.69 772.431 L2151.69 765.07 L2155.97 765.07 Z\" fill=\"#000000\" fill-rule=\"nonzero\" fill-opacity=\"1\" /><path clip-path=\"url(#clip240)\" d=\"M2182.13 785.324 Q2176.97 785.324 2174.98 786.505 Q2172.99 787.685 2172.99 790.532 Q2172.99 792.801 2174.47 794.144 Q2175.97 795.463 2178.54 795.463 Q2182.08 795.463 2184.21 792.963 Q2186.37 790.44 2186.37 786.273 L2186.37 785.324 L2182.13 785.324 M2190.62 783.565 L2190.62 798.356 L2186.37 798.356 L2186.37 794.421 Q2184.91 796.782 2182.73 797.917 Q2180.56 799.028 2177.41 799.028 Q2173.43 799.028 2171.06 796.806 Q2168.73 794.56 2168.73 790.81 Q2168.73 786.435 2171.64 784.213 Q2174.58 781.991 2180.39 781.991 L2186.37 781.991 L2186.37 781.574 Q2186.37 778.634 2184.42 777.037 Q2182.5 775.417 2179 775.417 Q2176.78 775.417 2174.68 775.949 Q2172.57 776.482 2170.62 777.546 L2170.62 773.611 Q2172.96 772.708 2175.16 772.269 Q2177.36 771.806 2179.44 771.806 Q2185.07 771.806 2187.85 774.722 Q2190.62 777.639 2190.62 783.565 Z\" fill=\"#000000\" fill-rule=\"nonzero\" fill-opacity=\"1\" /><path clip-path=\"url(#clip240)\" d=\"M2220.95 782.708 L2220.95 798.356 L2216.69 798.356 L2216.69 782.847 Q2216.69 779.167 2215.25 777.338 Q2213.82 775.509 2210.95 775.509 Q2207.5 775.509 2205.51 777.708 Q2203.52 779.908 2203.52 783.704 L2203.52 798.356 L2199.24 798.356 L2199.24 772.431 L2203.52 772.431 L2203.52 776.458 Q2205.05 774.121 2207.11 772.963 Q2209.19 771.806 2211.9 771.806 Q2216.37 771.806 2218.66 774.583 Q2220.95 777.338 2220.95 782.708 Z\" fill=\"#000000\" fill-rule=\"nonzero\" fill-opacity=\"1\" /><path clip-path=\"url(#clip240)\" d=\"M2246.5 776.366 L2246.5 762.338 L2250.76 762.338 L2250.76 798.356 L2246.5 798.356 L2246.5 794.468 Q2245.16 796.782 2243.1 797.917 Q2241.06 799.028 2238.19 799.028 Q2233.49 799.028 2230.53 795.278 Q2227.59 791.528 2227.59 785.417 Q2227.59 779.306 2230.53 775.556 Q2233.49 771.806 2238.19 771.806 Q2241.06 771.806 2243.1 772.94 Q2245.16 774.051 2246.5 776.366 M2231.99 785.417 Q2231.99 790.116 2233.91 792.801 Q2235.86 795.463 2239.24 795.463 Q2242.61 795.463 2244.56 792.801 Q2246.5 790.116 2246.5 785.417 Q2246.5 780.718 2244.56 778.056 Q2242.61 775.371 2239.24 775.371 Q2235.86 775.371 2233.91 778.056 Q2231.99 780.718 2231.99 785.417 Z\" fill=\"#000000\" fill-rule=\"nonzero\" fill-opacity=\"1\" /><path clip-path=\"url(#clip240)\" d=\"M2271.32 785.324 Q2266.16 785.324 2264.17 786.505 Q2262.18 787.685 2262.18 790.532 Q2262.18 792.801 2263.66 794.144 Q2265.16 795.463 2267.73 795.463 Q2271.27 795.463 2273.4 792.963 Q2275.55 790.44 2275.55 786.273 L2275.55 785.324 L2271.32 785.324 M2279.81 783.565 L2279.81 798.356 L2275.55 798.356 L2275.55 794.421 Q2274.1 796.782 2271.92 797.917 Q2269.74 799.028 2266.6 799.028 Q2262.61 799.028 2260.25 796.806 Q2257.92 794.56 2257.92 790.81 Q2257.92 786.435 2260.83 784.213 Q2263.77 781.991 2269.58 781.991 L2275.55 781.991 L2275.55 781.574 Q2275.55 778.634 2273.61 777.037 Q2271.69 775.417 2268.19 775.417 Q2265.97 775.417 2263.86 775.949 Q2261.76 776.482 2259.81 777.546 L2259.81 773.611 Q2262.15 772.708 2264.35 772.269 Q2266.55 771.806 2268.63 771.806 Q2274.26 771.806 2277.04 774.722 Q2279.81 777.639 2279.81 783.565 Z\" fill=\"#000000\" fill-rule=\"nonzero\" fill-opacity=\"1\" /><path clip-path=\"url(#clip240)\" d=\"M2303.61 776.412 Q2302.89 775.996 2302.04 775.81 Q2301.2 775.602 2300.18 775.602 Q2296.57 775.602 2294.63 777.963 Q2292.71 780.301 2292.71 784.699 L2292.71 798.356 L2288.42 798.356 L2288.42 772.431 L2292.71 772.431 L2292.71 776.458 Q2294.05 774.097 2296.2 772.963 Q2298.36 771.806 2301.43 771.806 Q2301.87 771.806 2302.41 771.875 Q2302.94 771.921 2303.59 772.037 L2303.61 776.412 Z\" fill=\"#000000\" fill-rule=\"nonzero\" fill-opacity=\"1\" /><path clip-path=\"url(#clip240)\" d=\"M2324.3 776.366 L2324.3 762.338 L2328.56 762.338 L2328.56 798.356 L2324.3 798.356 L2324.3 794.468 Q2322.96 796.782 2320.9 797.917 Q2318.86 799.028 2315.99 799.028 Q2311.3 799.028 2308.33 795.278 Q2305.39 791.528 2305.39 785.417 Q2305.39 779.306 2308.33 775.556 Q2311.3 771.806 2315.99 771.806 Q2318.86 771.806 2320.9 772.94 Q2322.96 774.051 2324.3 776.366 M2309.79 785.417 Q2309.79 790.116 2311.71 792.801 Q2313.66 795.463 2317.04 795.463 Q2320.42 795.463 2322.36 792.801 Q2324.3 790.116 2324.3 785.417 Q2324.3 780.718 2322.36 778.056 Q2320.42 775.371 2317.04 775.371 Q2313.66 775.371 2311.71 778.056 Q2309.79 780.718 2309.79 785.417 Z\" fill=\"#000000\" fill-rule=\"nonzero\" fill-opacity=\"1\" /></svg>\n"
            ],
            "text/html": [
              "<?xml version=\"1.0\" encoding=\"utf-8\"?>\n",
              "<svg xmlns=\"http://www.w3.org/2000/svg\" xmlns:xlink=\"http://www.w3.org/1999/xlink\" width=\"600\" height=\"400\" viewBox=\"0 0 2400 1600\">\n",
              "<defs>\n",
              "  <clipPath id=\"clip290\">\n",
              "    <rect x=\"0\" y=\"0\" width=\"2400\" height=\"1600\"/>\n",
              "  </clipPath>\n",
              "</defs>\n",
              "<path clip-path=\"url(#clip290)\" d=\"M0 1600 L2400 1600 L2400 0 L0 0  Z\" fill=\"#ffffff\" fill-rule=\"evenodd\" fill-opacity=\"1\"/>\n",
              "<defs>\n",
              "  <clipPath id=\"clip291\">\n",
              "    <rect x=\"480\" y=\"0\" width=\"1681\" height=\"1600\"/>\n",
              "  </clipPath>\n",
              "</defs>\n",
              "<path clip-path=\"url(#clip290)\" d=\"M175.445 1423.18 L1583.19 1423.18 L1583.19 47.2441 L175.445 47.2441  Z\" fill=\"#ffffff\" fill-rule=\"evenodd\" fill-opacity=\"1\"/>\n",
              "<defs>\n",
              "  <clipPath id=\"clip292\">\n",
              "    <rect x=\"175\" y=\"47\" width=\"1409\" height=\"1377\"/>\n",
              "  </clipPath>\n",
              "</defs>\n",
              "<polyline clip-path=\"url(#clip292)\" style=\"stroke:#000000; stroke-linecap:round; stroke-linejoin:round; stroke-width:2; stroke-opacity:0.1; fill:none\" points=\"215.287,1423.18 215.287,47.2441 \"/>\n",
              "<polyline clip-path=\"url(#clip292)\" style=\"stroke:#000000; stroke-linecap:round; stroke-linejoin:round; stroke-width:2; stroke-opacity:0.1; fill:none\" points=\"480.9,1423.18 480.9,47.2441 \"/>\n",
              "<polyline clip-path=\"url(#clip292)\" style=\"stroke:#000000; stroke-linecap:round; stroke-linejoin:round; stroke-width:2; stroke-opacity:0.1; fill:none\" points=\"746.512,1423.18 746.512,47.2441 \"/>\n",
              "<polyline clip-path=\"url(#clip292)\" style=\"stroke:#000000; stroke-linecap:round; stroke-linejoin:round; stroke-width:2; stroke-opacity:0.1; fill:none\" points=\"1012.12,1423.18 1012.12,47.2441 \"/>\n",
              "<polyline clip-path=\"url(#clip292)\" style=\"stroke:#000000; stroke-linecap:round; stroke-linejoin:round; stroke-width:2; stroke-opacity:0.1; fill:none\" points=\"1277.74,1423.18 1277.74,47.2441 \"/>\n",
              "<polyline clip-path=\"url(#clip292)\" style=\"stroke:#000000; stroke-linecap:round; stroke-linejoin:round; stroke-width:2; stroke-opacity:0.1; fill:none\" points=\"1543.35,1423.18 1543.35,47.2441 \"/>\n",
              "<polyline clip-path=\"url(#clip290)\" style=\"stroke:#000000; stroke-linecap:round; stroke-linejoin:round; stroke-width:4; stroke-opacity:1; fill:none\" points=\"175.445,1423.18 1583.19,1423.18 \"/>\n",
              "<polyline clip-path=\"url(#clip290)\" style=\"stroke:#000000; stroke-linecap:round; stroke-linejoin:round; stroke-width:4; stroke-opacity:1; fill:none\" points=\"215.287,1423.18 215.287,1404.28 \"/>\n",
              "<polyline clip-path=\"url(#clip290)\" style=\"stroke:#000000; stroke-linecap:round; stroke-linejoin:round; stroke-width:4; stroke-opacity:1; fill:none\" points=\"480.9,1423.18 480.9,1404.28 \"/>\n",
              "<polyline clip-path=\"url(#clip290)\" style=\"stroke:#000000; stroke-linecap:round; stroke-linejoin:round; stroke-width:4; stroke-opacity:1; fill:none\" points=\"746.512,1423.18 746.512,1404.28 \"/>\n",
              "<polyline clip-path=\"url(#clip290)\" style=\"stroke:#000000; stroke-linecap:round; stroke-linejoin:round; stroke-width:4; stroke-opacity:1; fill:none\" points=\"1012.12,1423.18 1012.12,1404.28 \"/>\n",
              "<polyline clip-path=\"url(#clip290)\" style=\"stroke:#000000; stroke-linecap:round; stroke-linejoin:round; stroke-width:4; stroke-opacity:1; fill:none\" points=\"1277.74,1423.18 1277.74,1404.28 \"/>\n",
              "<polyline clip-path=\"url(#clip290)\" style=\"stroke:#000000; stroke-linecap:round; stroke-linejoin:round; stroke-width:4; stroke-opacity:1; fill:none\" points=\"1543.35,1423.18 1543.35,1404.28 \"/>\n",
              "<path clip-path=\"url(#clip290)\" d=\"M215.287 1454.1 Q211.676 1454.1 209.847 1457.66 Q208.042 1461.2 208.042 1468.33 Q208.042 1475.44 209.847 1479.01 Q211.676 1482.55 215.287 1482.55 Q218.921 1482.55 220.727 1479.01 Q222.556 1475.44 222.556 1468.33 Q222.556 1461.2 220.727 1457.66 Q218.921 1454.1 215.287 1454.1 M215.287 1450.39 Q221.097 1450.39 224.153 1455 Q227.231 1459.58 227.231 1468.33 Q227.231 1477.06 224.153 1481.67 Q221.097 1486.25 215.287 1486.25 Q209.477 1486.25 206.398 1481.67 Q203.343 1477.06 203.343 1468.33 Q203.343 1459.58 206.398 1455 Q209.477 1450.39 215.287 1450.39 Z\" fill=\"#000000\" fill-rule=\"nonzero\" fill-opacity=\"1\" /><path clip-path=\"url(#clip290)\" d=\"M455.587 1481.64 L463.226 1481.64 L463.226 1455.28 L454.916 1456.95 L454.916 1452.69 L463.18 1451.02 L467.856 1451.02 L467.856 1481.64 L475.494 1481.64 L475.494 1485.58 L455.587 1485.58 L455.587 1481.64 Z\" fill=\"#000000\" fill-rule=\"nonzero\" fill-opacity=\"1\" /><path clip-path=\"url(#clip290)\" d=\"M494.939 1454.1 Q491.328 1454.1 489.499 1457.66 Q487.693 1461.2 487.693 1468.33 Q487.693 1475.44 489.499 1479.01 Q491.328 1482.55 494.939 1482.55 Q498.573 1482.55 500.379 1479.01 Q502.207 1475.44 502.207 1468.33 Q502.207 1461.2 500.379 1457.66 Q498.573 1454.1 494.939 1454.1 M494.939 1450.39 Q500.749 1450.39 503.804 1455 Q506.883 1459.58 506.883 1468.33 Q506.883 1477.06 503.804 1481.67 Q500.749 1486.25 494.939 1486.25 Q489.129 1486.25 486.05 1481.67 Q482.994 1477.06 482.994 1468.33 Q482.994 1459.58 486.05 1455 Q489.129 1450.39 494.939 1450.39 Z\" fill=\"#000000\" fill-rule=\"nonzero\" fill-opacity=\"1\" /><path clip-path=\"url(#clip290)\" d=\"M725.285 1481.64 L741.605 1481.64 L741.605 1485.58 L719.66 1485.58 L719.66 1481.64 Q722.322 1478.89 726.906 1474.26 Q731.512 1469.61 732.693 1468.27 Q734.938 1465.74 735.818 1464.01 Q736.72 1462.25 736.72 1460.56 Q736.72 1457.8 734.776 1456.07 Q732.855 1454.33 729.753 1454.33 Q727.554 1454.33 725.1 1455.09 Q722.669 1455.86 719.892 1457.41 L719.892 1452.69 Q722.716 1451.55 725.169 1450.97 Q727.623 1450.39 729.66 1450.39 Q735.031 1450.39 738.225 1453.08 Q741.419 1455.77 741.419 1460.26 Q741.419 1462.39 740.609 1464.31 Q739.822 1466.2 737.716 1468.8 Q737.137 1469.47 734.035 1472.69 Q730.933 1475.88 725.285 1481.64 Z\" fill=\"#000000\" fill-rule=\"nonzero\" fill-opacity=\"1\" /><path clip-path=\"url(#clip290)\" d=\"M761.419 1454.1 Q757.808 1454.1 755.979 1457.66 Q754.174 1461.2 754.174 1468.33 Q754.174 1475.44 755.979 1479.01 Q757.808 1482.55 761.419 1482.55 Q765.054 1482.55 766.859 1479.01 Q768.688 1475.44 768.688 1468.33 Q768.688 1461.2 766.859 1457.66 Q765.054 1454.1 761.419 1454.1 M761.419 1450.39 Q767.229 1450.39 770.285 1455 Q773.364 1459.58 773.364 1468.33 Q773.364 1477.06 770.285 1481.67 Q767.229 1486.25 761.419 1486.25 Q755.609 1486.25 752.53 1481.67 Q749.475 1477.06 749.475 1468.33 Q749.475 1459.58 752.53 1455 Q755.609 1450.39 761.419 1450.39 Z\" fill=\"#000000\" fill-rule=\"nonzero\" fill-opacity=\"1\" /><path clip-path=\"url(#clip290)\" d=\"M1000.97 1466.95 Q1004.32 1467.66 1006.2 1469.93 Q1008.1 1472.2 1008.1 1475.53 Q1008.1 1480.65 1004.58 1483.45 Q1001.06 1486.25 994.578 1486.25 Q992.402 1486.25 990.087 1485.81 Q987.796 1485.39 985.342 1484.54 L985.342 1480.02 Q987.287 1481.16 989.601 1481.74 Q991.916 1482.32 994.439 1482.32 Q998.837 1482.32 1001.13 1480.58 Q1003.44 1478.84 1003.44 1475.53 Q1003.44 1472.48 1001.29 1470.77 Q999.161 1469.03 995.342 1469.03 L991.314 1469.03 L991.314 1465.19 L995.527 1465.19 Q998.976 1465.19 1000.8 1463.82 Q1002.63 1462.43 1002.63 1459.84 Q1002.63 1457.18 1000.74 1455.77 Q998.861 1454.33 995.342 1454.33 Q993.421 1454.33 991.222 1454.75 Q989.023 1455.16 986.384 1456.04 L986.384 1451.88 Q989.046 1451.14 991.361 1450.77 Q993.699 1450.39 995.759 1450.39 Q1001.08 1450.39 1004.18 1452.83 Q1007.29 1455.23 1007.29 1459.35 Q1007.29 1462.22 1005.64 1464.21 Q1004 1466.18 1000.97 1466.95 Z\" fill=\"#000000\" fill-rule=\"nonzero\" fill-opacity=\"1\" /><path clip-path=\"url(#clip290)\" d=\"M1026.96 1454.1 Q1023.35 1454.1 1021.52 1457.66 Q1019.72 1461.2 1019.72 1468.33 Q1019.72 1475.44 1021.52 1479.01 Q1023.35 1482.55 1026.96 1482.55 Q1030.6 1482.55 1032.4 1479.01 Q1034.23 1475.44 1034.23 1468.33 Q1034.23 1461.2 1032.4 1457.66 Q1030.6 1454.1 1026.96 1454.1 M1026.96 1450.39 Q1032.77 1450.39 1035.83 1455 Q1038.91 1459.58 1038.91 1468.33 Q1038.91 1477.06 1035.83 1481.67 Q1032.77 1486.25 1026.96 1486.25 Q1021.15 1486.25 1018.07 1481.67 Q1015.02 1477.06 1015.02 1468.33 Q1015.02 1459.58 1018.07 1455 Q1021.15 1450.39 1026.96 1450.39 Z\" fill=\"#000000\" fill-rule=\"nonzero\" fill-opacity=\"1\" /><path clip-path=\"url(#clip290)\" d=\"M1265.91 1455.09 L1254.1 1473.54 L1265.91 1473.54 L1265.91 1455.09 M1264.68 1451.02 L1270.56 1451.02 L1270.56 1473.54 L1275.49 1473.54 L1275.49 1477.43 L1270.56 1477.43 L1270.56 1485.58 L1265.91 1485.58 L1265.91 1477.43 L1250.31 1477.43 L1250.31 1472.92 L1264.68 1451.02 Z\" fill=\"#000000\" fill-rule=\"nonzero\" fill-opacity=\"1\" /><path clip-path=\"url(#clip290)\" d=\"M1293.22 1454.1 Q1289.61 1454.1 1287.78 1457.66 Q1285.98 1461.2 1285.98 1468.33 Q1285.98 1475.44 1287.78 1479.01 Q1289.61 1482.55 1293.22 1482.55 Q1296.86 1482.55 1298.66 1479.01 Q1300.49 1475.44 1300.49 1468.33 Q1300.49 1461.2 1298.66 1457.66 Q1296.86 1454.1 1293.22 1454.1 M1293.22 1450.39 Q1299.03 1450.39 1302.09 1455 Q1305.17 1459.58 1305.17 1468.33 Q1305.17 1477.06 1302.09 1481.67 Q1299.03 1486.25 1293.22 1486.25 Q1287.41 1486.25 1284.33 1481.67 Q1281.28 1477.06 1281.28 1468.33 Q1281.28 1459.58 1284.33 1455 Q1287.41 1450.39 1293.22 1450.39 Z\" fill=\"#000000\" fill-rule=\"nonzero\" fill-opacity=\"1\" /><path clip-path=\"url(#clip290)\" d=\"M1518.05 1451.02 L1536.4 1451.02 L1536.4 1454.96 L1522.33 1454.96 L1522.33 1463.43 Q1523.35 1463.08 1524.37 1462.92 Q1525.39 1462.73 1526.4 1462.73 Q1532.19 1462.73 1535.57 1465.9 Q1538.95 1469.08 1538.95 1474.49 Q1538.95 1480.07 1535.48 1483.17 Q1532.01 1486.25 1525.69 1486.25 Q1523.51 1486.25 1521.24 1485.88 Q1519 1485.51 1516.59 1484.77 L1516.59 1480.07 Q1518.67 1481.2 1520.9 1481.76 Q1523.12 1482.32 1525.59 1482.32 Q1529.6 1482.32 1531.94 1480.21 Q1534.28 1478.1 1534.28 1474.49 Q1534.28 1470.88 1531.94 1468.77 Q1529.6 1466.67 1525.59 1466.67 Q1523.72 1466.67 1521.84 1467.08 Q1519.99 1467.5 1518.05 1468.38 L1518.05 1451.02 Z\" fill=\"#000000\" fill-rule=\"nonzero\" fill-opacity=\"1\" /><path clip-path=\"url(#clip290)\" d=\"M1558.16 1454.1 Q1554.55 1454.1 1552.72 1457.66 Q1550.92 1461.2 1550.92 1468.33 Q1550.92 1475.44 1552.72 1479.01 Q1554.55 1482.55 1558.16 1482.55 Q1561.8 1482.55 1563.6 1479.01 Q1565.43 1475.44 1565.43 1468.33 Q1565.43 1461.2 1563.6 1457.66 Q1561.8 1454.1 1558.16 1454.1 M1558.16 1450.39 Q1563.97 1450.39 1567.03 1455 Q1570.11 1459.58 1570.11 1468.33 Q1570.11 1477.06 1567.03 1481.67 Q1563.97 1486.25 1558.16 1486.25 Q1552.35 1486.25 1549.28 1481.67 Q1546.22 1477.06 1546.22 1468.33 Q1546.22 1459.58 1549.28 1455 Q1552.35 1450.39 1558.16 1450.39 Z\" fill=\"#000000\" fill-rule=\"nonzero\" fill-opacity=\"1\" /><path clip-path=\"url(#clip290)\" d=\"M811.253 1532.4 L798.362 1549.74 L811.921 1568.04 L805.014 1568.04 L794.638 1554.04 L784.262 1568.04 L777.355 1568.04 L791.201 1549.39 L778.533 1532.4 L785.44 1532.4 L794.893 1545.1 L804.346 1532.4 L811.253 1532.4 Z\" fill=\"#000000\" fill-rule=\"nonzero\" fill-opacity=\"1\" /><path clip-path=\"url(#clip290)\" d=\"M854.985 1518.58 Q850.72 1525.9 848.651 1533.06 Q846.583 1540.23 846.583 1547.58 Q846.583 1554.93 848.651 1562.16 Q850.752 1569.35 854.985 1576.64 L849.893 1576.64 Q845.118 1569.16 842.731 1561.93 Q840.376 1554.71 840.376 1547.58 Q840.376 1540.48 842.731 1533.29 Q845.087 1526.09 849.893 1518.58 L854.985 1518.58 Z\" fill=\"#000000\" fill-rule=\"nonzero\" fill-opacity=\"1\" /><path clip-path=\"url(#clip290)\" d=\"M866.125 1518.52 L872.014 1518.52 L872.014 1547.77 L889.487 1532.4 L896.967 1532.4 L878.061 1549.07 L897.763 1568.04 L890.124 1568.04 L872.014 1550.63 L872.014 1568.04 L866.125 1568.04 L866.125 1518.52 Z\" fill=\"#000000\" fill-rule=\"nonzero\" fill-opacity=\"1\" /><path clip-path=\"url(#clip290)\" d=\"M931.851 1539.24 Q934.047 1535.29 937.103 1533.41 Q940.158 1531.54 944.296 1531.54 Q949.866 1531.54 952.89 1535.45 Q955.914 1539.33 955.914 1546.53 L955.914 1568.04 L950.025 1568.04 L950.025 1546.72 Q950.025 1541.59 948.211 1539.11 Q946.397 1536.63 942.673 1536.63 Q938.121 1536.63 935.48 1539.65 Q932.838 1542.68 932.838 1547.9 L932.838 1568.04 L926.95 1568.04 L926.95 1546.72 Q926.95 1541.56 925.135 1539.11 Q923.321 1536.63 919.534 1536.63 Q915.046 1536.63 912.404 1539.68 Q909.762 1542.71 909.762 1547.9 L909.762 1568.04 L903.874 1568.04 L903.874 1532.4 L909.762 1532.4 L909.762 1537.93 Q911.767 1534.66 914.568 1533.1 Q917.369 1531.54 921.22 1531.54 Q925.104 1531.54 927.809 1533.51 Q930.546 1535.48 931.851 1539.24 Z\" fill=\"#000000\" fill-rule=\"nonzero\" fill-opacity=\"1\" /><path clip-path=\"url(#clip290)\" d=\"M966.672 1518.58 L971.764 1518.58 Q976.538 1526.09 978.894 1533.29 Q981.281 1540.48 981.281 1547.58 Q981.281 1554.71 978.894 1561.93 Q976.538 1569.16 971.764 1576.64 L966.672 1576.64 Q970.905 1569.35 972.974 1562.16 Q975.074 1554.93 975.074 1547.58 Q975.074 1540.23 972.974 1533.06 Q970.905 1525.9 966.672 1518.58 Z\" fill=\"#000000\" fill-rule=\"nonzero\" fill-opacity=\"1\" /><polyline clip-path=\"url(#clip292)\" style=\"stroke:#000000; stroke-linecap:round; stroke-linejoin:round; stroke-width:2; stroke-opacity:0.1; fill:none\" points=\"175.445,1294.69 1583.19,1294.69 \"/>\n",
              "<polyline clip-path=\"url(#clip292)\" style=\"stroke:#000000; stroke-linecap:round; stroke-linejoin:round; stroke-width:2; stroke-opacity:0.1; fill:none\" points=\"175.445,925.421 1583.19,925.421 \"/>\n",
              "<polyline clip-path=\"url(#clip292)\" style=\"stroke:#000000; stroke-linecap:round; stroke-linejoin:round; stroke-width:2; stroke-opacity:0.1; fill:none\" points=\"175.445,556.158 1583.19,556.158 \"/>\n",
              "<polyline clip-path=\"url(#clip292)\" style=\"stroke:#000000; stroke-linecap:round; stroke-linejoin:round; stroke-width:2; stroke-opacity:0.1; fill:none\" points=\"175.445,186.894 1583.19,186.894 \"/>\n",
              "<polyline clip-path=\"url(#clip290)\" style=\"stroke:#000000; stroke-linecap:round; stroke-linejoin:round; stroke-width:4; stroke-opacity:1; fill:none\" points=\"175.445,1423.18 175.445,47.2441 \"/>\n",
              "<polyline clip-path=\"url(#clip290)\" style=\"stroke:#000000; stroke-linecap:round; stroke-linejoin:round; stroke-width:4; stroke-opacity:1; fill:none\" points=\"175.445,1294.69 187.664,1294.69 \"/>\n",
              "<polyline clip-path=\"url(#clip290)\" style=\"stroke:#000000; stroke-linecap:round; stroke-linejoin:round; stroke-width:4; stroke-opacity:1; fill:none\" points=\"175.445,925.421 187.664,925.421 \"/>\n",
              "<polyline clip-path=\"url(#clip290)\" style=\"stroke:#000000; stroke-linecap:round; stroke-linejoin:round; stroke-width:4; stroke-opacity:1; fill:none\" points=\"175.445,556.158 187.664,556.158 \"/>\n",
              "<polyline clip-path=\"url(#clip290)\" style=\"stroke:#000000; stroke-linecap:round; stroke-linejoin:round; stroke-width:4; stroke-opacity:1; fill:none\" points=\"175.445,186.894 187.664,186.894 \"/>\n",
              "<path clip-path=\"url(#clip290)\" d=\"M129.862 1281.48 L118.056 1299.93 L129.862 1299.93 L129.862 1281.48 M128.635 1277.41 L134.515 1277.41 L134.515 1299.93 L139.445 1299.93 L139.445 1303.82 L134.515 1303.82 L134.515 1311.97 L129.862 1311.97 L129.862 1303.82 L114.26 1303.82 L114.26 1299.3 L128.635 1277.41 Z\" fill=\"#000000\" fill-rule=\"nonzero\" fill-opacity=\"1\" /><path clip-path=\"url(#clip290)\" d=\"M118.543 908.141 L136.899 908.141 L136.899 912.077 L122.825 912.077 L122.825 920.549 Q123.843 920.201 124.862 920.039 Q125.88 919.854 126.899 919.854 Q132.686 919.854 136.066 923.026 Q139.445 926.197 139.445 931.613 Q139.445 937.192 135.973 940.294 Q132.501 943.373 126.181 943.373 Q124.005 943.373 121.737 943.002 Q119.492 942.632 117.084 941.891 L117.084 937.192 Q119.168 938.326 121.39 938.882 Q123.612 939.438 126.089 939.438 Q130.093 939.438 132.431 937.331 Q134.769 935.225 134.769 931.613 Q134.769 928.002 132.431 925.896 Q130.093 923.789 126.089 923.789 Q124.214 923.789 122.339 924.206 Q120.487 924.623 118.543 925.502 L118.543 908.141 Z\" fill=\"#000000\" fill-rule=\"nonzero\" fill-opacity=\"1\" /><path clip-path=\"url(#clip290)\" d=\"M127.917 554.294 Q124.769 554.294 122.918 556.447 Q121.089 558.6 121.089 562.35 Q121.089 566.077 122.918 568.253 Q124.769 570.405 127.917 570.405 Q131.066 570.405 132.894 568.253 Q134.746 566.077 134.746 562.35 Q134.746 558.6 132.894 556.447 Q131.066 554.294 127.917 554.294 M137.2 539.642 L137.2 543.901 Q135.441 543.067 133.635 542.628 Q131.853 542.188 130.093 542.188 Q125.464 542.188 123.01 545.313 Q120.58 548.438 120.232 554.757 Q121.598 552.743 123.658 551.679 Q125.718 550.591 128.195 550.591 Q133.404 550.591 136.413 553.762 Q139.445 556.91 139.445 562.35 Q139.445 567.674 136.297 570.891 Q133.149 574.109 127.917 574.109 Q121.922 574.109 118.751 569.526 Q115.58 564.919 115.58 556.192 Q115.58 547.998 119.468 543.137 Q123.357 538.253 129.908 538.253 Q131.667 538.253 133.45 538.6 Q135.255 538.947 137.2 539.642 Z\" fill=\"#000000\" fill-rule=\"nonzero\" fill-opacity=\"1\" /><path clip-path=\"url(#clip290)\" d=\"M117.223 169.614 L139.445 169.614 L139.445 171.605 L126.899 204.174 L122.015 204.174 L133.82 173.549 L117.223 173.549 L117.223 169.614 Z\" fill=\"#000000\" fill-rule=\"nonzero\" fill-opacity=\"1\" /><path clip-path=\"url(#clip290)\" d=\"M21.7677 1131.83 L58.7206 1131.83 L58.7206 1124.06 Q58.7206 1114.23 54.2646 1109.67 Q49.8086 1105.09 40.1964 1105.09 Q30.6479 1105.09 26.2237 1109.67 Q21.7677 1114.23 21.7677 1124.06 L21.7677 1131.83 M16.4842 1138.26 L16.4842 1125.05 Q16.4842 1111.23 22.2451 1104.77 Q27.9743 1098.31 40.1964 1098.31 Q52.4822 1098.31 58.2432 1104.8 Q64.0042 1111.3 64.0042 1125.05 L64.0042 1138.26 L16.4842 1138.26 Z\" fill=\"#000000\" fill-rule=\"nonzero\" fill-opacity=\"1\" /><path clip-path=\"url(#clip290)\" d=\"M20.8447 1068.77 Q20.8447 1075.78 26.0645 1079.91 Q31.2844 1084.02 40.2919 1084.02 Q49.2675 1084.02 54.4874 1079.91 Q59.7073 1075.78 59.7073 1068.77 Q59.7073 1061.77 54.4874 1057.7 Q49.2675 1053.59 40.2919 1053.59 Q31.2844 1053.59 26.0645 1057.7 Q20.8447 1061.77 20.8447 1068.77 M15.6248 1068.77 Q15.6248 1058.78 22.3406 1052.8 Q29.0246 1046.81 40.2919 1046.81 Q51.5274 1046.81 58.2432 1052.8 Q64.9272 1058.78 64.9272 1068.77 Q64.9272 1078.8 58.2432 1084.82 Q51.5592 1090.8 40.2919 1090.8 Q29.0246 1090.8 22.3406 1084.82 Q15.6248 1078.8 15.6248 1068.77 Z\" fill=\"#000000\" fill-rule=\"nonzero\" fill-opacity=\"1\" /><path clip-path=\"url(#clip290)\" d=\"M20.1444 980.451 L26.9239 980.451 Q23.9002 983.697 22.4043 987.389 Q20.9083 991.05 20.9083 995.187 Q20.9083 1003.34 25.9054 1007.66 Q30.8707 1011.99 40.2919 1011.99 Q49.6813 1011.99 54.6784 1007.66 Q59.6436 1003.34 59.6436 995.187 Q59.6436 991.05 58.1477 987.389 Q56.6518 983.697 53.6281 980.451 L60.3439 980.451 Q62.6355 983.825 63.7814 987.612 Q64.9272 991.368 64.9272 995.569 Q64.9272 1006.36 58.3387 1012.57 Q51.7183 1018.77 40.2919 1018.77 Q28.8336 1018.77 22.2451 1012.57 Q15.6248 1006.36 15.6248 995.569 Q15.6248 991.304 16.7706 987.549 Q17.8846 983.761 20.1444 980.451 Z\" fill=\"#000000\" fill-rule=\"nonzero\" fill-opacity=\"1\" /><path clip-path=\"url(#clip290)\" d=\"M32.4621 956.961 Q32.4621 961.672 36.1542 964.409 Q39.8145 967.146 46.212 967.146 Q52.6095 967.146 56.3017 964.441 Q59.9619 961.704 59.9619 956.961 Q59.9619 952.283 56.2698 949.545 Q52.5777 946.808 46.212 946.808 Q39.8781 946.808 36.186 949.545 Q32.4621 952.283 32.4621 956.961 M27.4968 956.961 Q27.4968 949.323 32.4621 944.962 Q37.4273 940.601 46.212 940.601 Q54.9649 940.601 59.9619 944.962 Q64.9272 949.323 64.9272 956.961 Q64.9272 964.632 59.9619 968.993 Q54.9649 973.321 46.212 973.321 Q37.4273 973.321 32.4621 968.993 Q27.4968 964.632 27.4968 956.961 Z\" fill=\"#000000\" fill-rule=\"nonzero\" fill-opacity=\"1\" /><path clip-path=\"url(#clip290)\" d=\"M42.4881 901.261 L64.0042 901.261 L64.0042 907.118 L42.679 907.118 Q37.6183 907.118 35.1038 909.091 Q32.5894 911.065 32.5894 915.011 Q32.5894 919.754 35.6131 922.491 Q38.6368 925.228 43.8567 925.228 L64.0042 925.228 L64.0042 931.117 L28.3562 931.117 L28.3562 925.228 L33.8944 925.228 Q30.6797 923.128 29.0883 920.295 Q27.4968 917.43 27.4968 913.706 Q27.4968 907.563 31.3163 904.412 Q35.1038 901.261 42.4881 901.261 Z\" fill=\"#000000\" fill-rule=\"nonzero\" fill-opacity=\"1\" /><path clip-path=\"url(#clip290)\" d=\"M29.7248 863.927 L35.1993 863.927 Q33.8307 866.409 33.1623 868.924 Q32.4621 871.406 32.4621 873.953 Q32.4621 879.65 36.0905 882.801 Q39.6872 885.952 46.212 885.952 Q52.7369 885.952 56.3653 882.801 Q59.9619 879.65 59.9619 873.953 Q59.9619 871.406 59.2935 868.924 Q58.5933 866.409 57.2247 863.927 L62.6355 863.927 Q63.7814 866.377 64.3543 869.019 Q64.9272 871.629 64.9272 874.589 Q64.9272 882.642 59.8664 887.384 Q54.8057 892.127 46.212 892.127 Q37.491 892.127 32.4939 887.352 Q27.4968 882.546 27.4968 874.207 Q27.4968 871.502 28.0697 868.924 Q28.6108 866.346 29.7248 863.927 Z\" fill=\"#000000\" fill-rule=\"nonzero\" fill-opacity=\"1\" /><path clip-path=\"url(#clip290)\" d=\"M44.7161 823.25 L47.5806 823.25 L47.5806 850.177 Q53.6281 849.795 56.8109 846.548 Q59.9619 843.27 59.9619 837.445 Q59.9619 834.071 59.1344 830.92 Q58.3069 827.738 56.6518 824.618 L62.1899 824.618 Q63.5267 827.769 64.227 831.08 Q64.9272 834.39 64.9272 837.795 Q64.9272 846.325 59.9619 851.322 Q54.9967 856.288 46.5303 856.288 Q37.7774 856.288 32.6531 851.577 Q27.4968 846.835 27.4968 838.814 Q27.4968 831.621 32.1438 827.451 Q36.7589 823.25 44.7161 823.25 M42.9973 829.106 Q38.1912 829.17 35.3266 831.812 Q32.4621 834.422 32.4621 838.75 Q32.4621 843.652 35.2312 846.612 Q38.0002 849.54 43.0292 849.986 L42.9973 829.106 Z\" fill=\"#000000\" fill-rule=\"nonzero\" fill-opacity=\"1\" /><path clip-path=\"url(#clip290)\" d=\"M42.4881 784.005 L64.0042 784.005 L64.0042 789.862 L42.679 789.862 Q37.6183 789.862 35.1038 791.835 Q32.5894 793.808 32.5894 797.755 Q32.5894 802.497 35.6131 805.235 Q38.6368 807.972 43.8567 807.972 L64.0042 807.972 L64.0042 813.86 L28.3562 813.86 L28.3562 807.972 L33.8944 807.972 Q30.6797 805.871 29.0883 803.039 Q27.4968 800.174 27.4968 796.45 Q27.4968 790.307 31.3163 787.156 Q35.1038 784.005 42.4881 784.005 Z\" fill=\"#000000\" fill-rule=\"nonzero\" fill-opacity=\"1\" /><path clip-path=\"url(#clip290)\" d=\"M18.2347 766.531 L28.3562 766.531 L28.3562 754.468 L32.9077 754.468 L32.9077 766.531 L52.2594 766.531 Q56.6199 766.531 57.8613 765.354 Q59.1026 764.144 59.1026 760.484 L59.1026 754.468 L64.0042 754.468 L64.0042 760.484 Q64.0042 767.263 61.4897 769.841 Q58.9434 772.42 52.2594 772.42 L32.9077 772.42 L32.9077 776.716 L28.3562 776.716 L28.3562 772.42 L18.2347 772.42 L18.2347 766.531 Z\" fill=\"#000000\" fill-rule=\"nonzero\" fill-opacity=\"1\" /><path clip-path=\"url(#clip290)\" d=\"M33.8307 726.109 Q33.2578 727.096 33.0032 728.273 Q32.7167 729.419 32.7167 730.82 Q32.7167 735.785 35.9632 738.458 Q39.1779 741.1 45.2253 741.1 L64.0042 741.1 L64.0042 746.989 L28.3562 746.989 L28.3562 741.1 L33.8944 741.1 Q30.6479 739.254 29.0883 736.294 Q27.4968 733.334 27.4968 729.101 Q27.4968 728.496 27.5923 727.764 Q27.656 727.032 27.8151 726.141 L33.8307 726.109 Z\" fill=\"#000000\" fill-rule=\"nonzero\" fill-opacity=\"1\" /><path clip-path=\"url(#clip290)\" d=\"M46.0847 703.765 Q46.0847 710.863 47.7079 713.6 Q49.3312 716.338 53.2461 716.338 Q56.3653 716.338 58.2114 714.301 Q60.0256 712.232 60.0256 708.699 Q60.0256 703.829 56.5881 700.901 Q53.1188 697.941 47.3897 697.941 L46.0847 697.941 L46.0847 703.765 M43.6657 692.084 L64.0042 692.084 L64.0042 697.941 L58.5933 697.941 Q61.8398 699.946 63.3994 702.938 Q64.9272 705.93 64.9272 710.258 Q64.9272 715.733 61.8716 718.979 Q58.7843 722.194 53.6281 722.194 Q47.6125 722.194 44.5569 718.184 Q41.5014 714.141 41.5014 706.153 L41.5014 697.941 L40.9285 697.941 Q36.8862 697.941 34.6901 700.614 Q32.4621 703.256 32.4621 708.062 Q32.4621 711.118 33.1941 714.014 Q33.9262 716.911 35.3903 719.584 L29.9795 719.584 Q28.7381 716.369 28.1334 713.346 Q27.4968 710.322 27.4968 707.457 Q27.4968 699.723 31.5072 695.904 Q35.5176 692.084 43.6657 692.084 Z\" fill=\"#000000\" fill-rule=\"nonzero\" fill-opacity=\"1\" /><path clip-path=\"url(#clip290)\" d=\"M18.2347 674.228 L28.3562 674.228 L28.3562 662.165 L32.9077 662.165 L32.9077 674.228 L52.2594 674.228 Q56.6199 674.228 57.8613 673.051 Q59.1026 671.841 59.1026 668.181 L59.1026 662.165 L64.0042 662.165 L64.0042 668.181 Q64.0042 674.961 61.4897 677.539 Q58.9434 680.117 52.2594 680.117 L32.9077 680.117 L32.9077 684.414 L28.3562 684.414 L28.3562 680.117 L18.2347 680.117 L18.2347 674.228 Z\" fill=\"#000000\" fill-rule=\"nonzero\" fill-opacity=\"1\" /><path clip-path=\"url(#clip290)\" d=\"M28.3562 654.463 L28.3562 648.607 L64.0042 648.607 L64.0042 654.463 L28.3562 654.463 M14.479 654.463 L14.479 648.607 L21.895 648.607 L21.895 654.463 L14.479 654.463 Z\" fill=\"#000000\" fill-rule=\"nonzero\" fill-opacity=\"1\" /><path clip-path=\"url(#clip290)\" d=\"M32.4621 622.539 Q32.4621 627.25 36.1542 629.987 Q39.8145 632.724 46.212 632.724 Q52.6095 632.724 56.3017 630.019 Q59.9619 627.281 59.9619 622.539 Q59.9619 617.86 56.2698 615.123 Q52.5777 612.386 46.212 612.386 Q39.8781 612.386 36.186 615.123 Q32.4621 617.86 32.4621 622.539 M27.4968 622.539 Q27.4968 614.9 32.4621 610.54 Q37.4273 606.179 46.212 606.179 Q54.9649 606.179 59.9619 610.54 Q64.9272 614.9 64.9272 622.539 Q64.9272 630.21 59.9619 634.57 Q54.9649 638.899 46.212 638.899 Q37.4273 638.899 32.4621 634.57 Q27.4968 630.21 27.4968 622.539 Z\" fill=\"#000000\" fill-rule=\"nonzero\" fill-opacity=\"1\" /><path clip-path=\"url(#clip290)\" d=\"M42.4881 566.839 L64.0042 566.839 L64.0042 572.695 L42.679 572.695 Q37.6183 572.695 35.1038 574.669 Q32.5894 576.642 32.5894 580.589 Q32.5894 585.331 35.6131 588.069 Q38.6368 590.806 43.8567 590.806 L64.0042 590.806 L64.0042 596.694 L28.3562 596.694 L28.3562 590.806 L33.8944 590.806 Q30.6797 588.705 29.0883 585.872 Q27.4968 583.008 27.4968 579.284 Q27.4968 573.141 31.3163 569.99 Q35.1038 566.839 42.4881 566.839 Z\" fill=\"#000000\" fill-rule=\"nonzero\" fill-opacity=\"1\" /><path clip-path=\"url(#clip290)\" d=\"M14.5426 520.369 Q21.8632 524.634 29.0246 526.703 Q36.186 528.772 43.5384 528.772 Q50.8908 528.772 58.1159 526.703 Q65.3091 524.603 72.5979 520.369 L72.5979 525.462 Q65.1182 530.236 57.8931 532.623 Q50.668 534.979 43.5384 534.979 Q36.4406 534.979 29.2474 532.623 Q22.0542 530.268 14.5426 525.462 L14.5426 520.369 Z\" fill=\"#000000\" fill-rule=\"nonzero\" fill-opacity=\"1\" /><path clip-path=\"url(#clip290)\" d=\"M35.1993 481.252 Q31.2526 479.056 29.3747 476 Q27.4968 472.945 27.4968 468.807 Q27.4968 463.237 31.4117 460.213 Q35.2948 457.19 42.4881 457.19 L64.0042 457.19 L64.0042 463.078 L42.679 463.078 Q37.5546 463.078 35.072 464.892 Q32.5894 466.706 32.5894 470.43 Q32.5894 474.982 35.6131 477.624 Q38.6368 480.265 43.8567 480.265 L64.0042 480.265 L64.0042 486.154 L42.679 486.154 Q37.5228 486.154 35.072 487.968 Q32.5894 489.782 32.5894 493.57 Q32.5894 498.058 35.6449 500.699 Q38.6686 503.341 43.8567 503.341 L64.0042 503.341 L64.0042 509.229 L28.3562 509.229 L28.3562 503.341 L33.8944 503.341 Q30.616 501.336 29.0564 498.535 Q27.4968 495.734 27.4968 491.883 Q27.4968 488 29.4702 485.294 Q31.4436 482.557 35.1993 481.252 Z\" fill=\"#000000\" fill-rule=\"nonzero\" fill-opacity=\"1\" /><path clip-path=\"url(#clip290)\" d=\"M45.7664 422.051 Q39.4007 422.051 35.8996 424.693 Q32.3984 427.303 32.3984 432.045 Q32.3984 436.756 35.8996 439.398 Q39.4007 442.008 45.7664 442.008 Q52.1003 442.008 55.6014 439.398 Q59.1026 436.756 59.1026 432.045 Q59.1026 427.303 55.6014 424.693 Q52.1003 422.051 45.7664 422.051 M59.58 416.195 Q68.683 416.195 73.1071 420.237 Q77.5631 424.279 77.5631 432.618 Q77.5631 435.705 77.0857 438.443 Q76.6401 441.18 75.6852 443.758 L69.9879 443.758 Q71.3884 441.18 72.0568 438.666 Q72.7252 436.151 72.7252 433.541 Q72.7252 427.78 69.7015 424.916 Q66.7096 422.051 60.6303 422.051 L57.7339 422.051 Q60.885 423.865 62.4446 426.698 Q64.0042 429.531 64.0042 433.477 Q64.0042 440.034 59.0071 444.045 Q54.01 448.055 45.7664 448.055 Q37.491 448.055 32.4939 444.045 Q27.4968 440.034 27.4968 433.477 Q27.4968 429.531 29.0564 426.698 Q30.616 423.865 33.7671 422.051 L28.3562 422.051 L28.3562 416.195 L59.58 416.195 Z\" fill=\"#000000\" fill-rule=\"nonzero\" fill-opacity=\"1\" /><path clip-path=\"url(#clip290)\" d=\"M16.4842 393.724 L16.4842 388.313 L70.0516 404.864 L70.0516 410.274 L16.4842 393.724 Z\" fill=\"#000000\" fill-rule=\"nonzero\" fill-opacity=\"1\" /><path clip-path=\"url(#clip290)\" d=\"M16.4842 381.915 L16.4842 375.486 L58.5933 375.486 L58.5933 352.347 L64.0042 352.347 L64.0042 381.915 L16.4842 381.915 Z\" fill=\"#000000\" fill-rule=\"nonzero\" fill-opacity=\"1\" /><path clip-path=\"url(#clip290)\" d=\"M14.5426 346.777 L14.5426 341.684 Q22.0542 336.91 29.2474 334.554 Q36.4406 332.167 43.5384 332.167 Q50.668 332.167 57.8931 334.554 Q65.1182 336.91 72.5979 341.684 L72.5979 346.777 Q65.3091 342.543 58.1159 340.475 Q50.8908 338.374 43.5384 338.374 Q36.186 338.374 29.0246 340.475 Q21.8632 342.543 14.5426 346.777 Z\" fill=\"#000000\" fill-rule=\"nonzero\" fill-opacity=\"1\" /><polyline clip-path=\"url(#clip292)\" style=\"stroke:#009af9; stroke-linecap:round; stroke-linejoin:round; stroke-width:4; stroke-opacity:1; fill:none\" points=\"215.287,86.1857 241.848,290.891 268.41,462.831 294.971,605.645 321.532,722.613 348.093,816.686 374.655,890.525 401.216,946.52 427.777,986.82 454.338,1013.36 480.9,1027.86 507.461,1031.88 534.022,1026.81 560.583,1013.9 587.144,994.251 613.706,968.86 613.706,963.647 640.267,1086 666.828,1183.14 693.389,1258.02 719.951,1313.3 746.512,1351.37 773.073,1374.38 799.634,1384.24 826.196,1382.68 852.757,1371.24 879.318,1351.3 905.879,1324.09 932.441,1290.7 959.002,1252.13 985.563,1209.22 1012.12,1162.76 1038.69,1113.43 1065.25,1061.83 1091.81,1008.49 1118.37,953.892 1144.93,898.437 1171.49,842.487 1198.05,786.356 1224.61,730.316 1251.18,674.602 1277.74,619.415 1304.3,564.929 1330.86,511.289 1357.42,458.618 1383.98,407.017 1410.54,356.571 1437.1,307.345 1463.67,259.392 1490.23,212.753 1516.79,167.454 1543.35,123.517 \"/>\n",
              "<polyline clip-path=\"url(#clip292)\" style=\"stroke:#ff0000; stroke-linecap:round; stroke-linejoin:round; stroke-width:8; stroke-opacity:1; fill:none\" points=\"-1232.3,1294.69 2990.94,1294.69 \"/>\n",
              "<path clip-path=\"url(#clip290)\" d=\"M1655.77 832.916 L2352.76 832.916 L2352.76 677.396 L1655.77 677.396  Z\" fill=\"#ffffff\" fill-rule=\"evenodd\" fill-opacity=\"1\"/>\n",
              "<polyline clip-path=\"url(#clip290)\" style=\"stroke:#000000; stroke-linecap:round; stroke-linejoin:round; stroke-width:4; stroke-opacity:1; fill:none\" points=\"1655.77,832.916 2352.76,832.916 2352.76,677.396 1655.77,677.396 1655.77,832.916 \"/>\n",
              "<polyline clip-path=\"url(#clip290)\" style=\"stroke:#009af9; stroke-linecap:round; stroke-linejoin:round; stroke-width:4; stroke-opacity:1; fill:none\" points=\"1679.96,729.236 1825.11,729.236 \"/>\n",
              "<path clip-path=\"url(#clip290)\" d=\"M1849.31 710.498 L1859.12 710.498 L1859.12 713.808 L1853.57 713.808 L1853.57 749.456 L1859.12 749.456 L1859.12 752.766 L1849.31 752.766 L1849.31 710.498 Z\" fill=\"#000000\" fill-rule=\"nonzero\" fill-opacity=\"1\" /><path clip-path=\"url(#clip290)\" d=\"M1872.22 711.956 L1872.22 724.804 L1868.29 724.804 L1868.29 711.956 L1872.22 711.956 M1880.97 711.956 L1880.97 724.804 L1877.04 724.804 L1877.04 711.956 L1880.97 711.956 Z\" fill=\"#000000\" fill-rule=\"nonzero\" fill-opacity=\"1\" /><path clip-path=\"url(#clip290)\" d=\"M1894.86 715.799 L1894.86 742.674 L1900.51 742.674 Q1907.66 742.674 1910.97 739.433 Q1914.31 736.192 1914.31 729.202 Q1914.31 722.257 1910.97 719.04 Q1907.66 715.799 1900.51 715.799 L1894.86 715.799 M1890.19 711.956 L1899.79 711.956 Q1909.84 711.956 1914.54 716.146 Q1919.24 720.313 1919.24 729.202 Q1919.24 738.137 1914.51 742.327 Q1909.79 746.516 1899.79 746.516 L1890.19 746.516 L1890.19 711.956 Z\" fill=\"#000000\" fill-rule=\"nonzero\" fill-opacity=\"1\" /><path clip-path=\"url(#clip290)\" d=\"M1940.72 715.128 Q1935.63 715.128 1932.62 718.924 Q1929.63 722.72 1929.63 729.271 Q1929.63 735.799 1932.62 739.595 Q1935.63 743.392 1940.72 743.392 Q1945.81 743.392 1948.77 739.595 Q1951.76 735.799 1951.76 729.271 Q1951.76 722.72 1948.77 718.924 Q1945.81 715.128 1940.72 715.128 M1940.72 711.331 Q1947.99 711.331 1952.34 716.216 Q1956.69 721.077 1956.69 729.271 Q1956.69 737.442 1952.34 742.327 Q1947.99 747.188 1940.72 747.188 Q1933.43 747.188 1929.05 742.327 Q1924.7 737.466 1924.7 729.271 Q1924.7 721.077 1929.05 716.216 Q1933.43 711.331 1940.72 711.331 Z\" fill=\"#000000\" fill-rule=\"nonzero\" fill-opacity=\"1\" /><path clip-path=\"url(#clip290)\" d=\"M1967.85 711.956 L1967.85 724.804 L1963.91 724.804 L1963.91 711.956 L1967.85 711.956 M1976.6 711.956 L1976.6 724.804 L1972.66 724.804 L1972.66 711.956 L1976.6 711.956 Z\" fill=\"#000000\" fill-rule=\"nonzero\" fill-opacity=\"1\" /><path clip-path=\"url(#clip290)\" d=\"M1995.58 710.498 L1995.58 752.766 L1985.76 752.766 L1985.76 749.456 L1991.3 749.456 L1991.3 713.808 L1985.76 713.808 L1985.76 710.498 L1995.58 710.498 Z\" fill=\"#000000\" fill-rule=\"nonzero\" fill-opacity=\"1\" /><polyline clip-path=\"url(#clip290)\" style=\"stroke:#ff0000; stroke-linecap:round; stroke-linejoin:round; stroke-width:8; stroke-opacity:1; fill:none\" points=\"1679.96,781.076 1825.11,781.076 \"/>\n",
              "<path clip-path=\"url(#clip290)\" d=\"M1865.7 782.153 Q1867.2 782.662 1868.61 784.329 Q1870.05 785.995 1871.48 788.912 L1876.23 798.356 L1871.2 798.356 L1866.78 789.491 Q1865.07 786.019 1863.45 784.884 Q1861.85 783.75 1859.08 783.75 L1853.98 783.75 L1853.98 798.356 L1849.31 798.356 L1849.31 763.796 L1859.86 763.796 Q1865.79 763.796 1868.7 766.273 Q1871.62 768.75 1871.62 773.75 Q1871.62 777.014 1870.09 779.167 Q1868.59 781.32 1865.7 782.153 M1853.98 767.639 L1853.98 779.908 L1859.86 779.908 Q1863.24 779.908 1864.95 778.357 Q1866.69 776.783 1866.69 773.75 Q1866.69 770.718 1864.95 769.19 Q1863.24 767.639 1859.86 767.639 L1853.98 767.639 Z\" fill=\"#000000\" fill-rule=\"nonzero\" fill-opacity=\"1\" /><path clip-path=\"url(#clip290)\" d=\"M1902.11 784.329 L1902.11 786.412 L1882.52 786.412 Q1882.8 790.81 1885.16 793.125 Q1887.55 795.417 1891.78 795.417 Q1894.24 795.417 1896.53 794.815 Q1898.84 794.213 1901.11 793.009 L1901.11 797.037 Q1898.82 798.009 1896.41 798.519 Q1894.01 799.028 1891.53 799.028 Q1885.33 799.028 1881.69 795.417 Q1878.08 791.806 1878.08 785.648 Q1878.08 779.283 1881.51 775.556 Q1884.95 771.806 1890.79 771.806 Q1896.02 771.806 1899.05 775.185 Q1902.11 778.542 1902.11 784.329 M1897.85 783.079 Q1897.8 779.583 1895.88 777.5 Q1893.98 775.417 1890.83 775.417 Q1887.27 775.417 1885.12 777.431 Q1882.99 779.445 1882.66 783.102 L1897.85 783.079 Z\" fill=\"#000000\" fill-rule=\"nonzero\" fill-opacity=\"1\" /><path clip-path=\"url(#clip290)\" d=\"M1926.16 785.093 Q1926.16 780.463 1924.24 777.917 Q1922.34 775.371 1918.89 775.371 Q1915.46 775.371 1913.54 777.917 Q1911.64 780.463 1911.64 785.093 Q1911.64 789.699 1913.54 792.245 Q1915.46 794.792 1918.89 794.792 Q1922.34 794.792 1924.24 792.245 Q1926.16 789.699 1926.16 785.093 M1930.42 795.139 Q1930.42 801.759 1927.48 804.977 Q1924.54 808.218 1918.47 808.218 Q1916.23 808.218 1914.24 807.87 Q1912.25 807.546 1910.37 806.852 L1910.37 802.708 Q1912.25 803.727 1914.08 804.213 Q1915.9 804.699 1917.8 804.699 Q1921.99 804.699 1924.07 802.5 Q1926.16 800.324 1926.16 795.903 L1926.16 793.796 Q1924.84 796.088 1922.78 797.222 Q1920.72 798.356 1917.85 798.356 Q1913.08 798.356 1910.16 794.722 Q1907.25 791.088 1907.25 785.093 Q1907.25 779.074 1910.16 775.44 Q1913.08 771.806 1917.85 771.806 Q1920.72 771.806 1922.78 772.94 Q1924.84 774.074 1926.16 776.366 L1926.16 772.431 L1930.42 772.431 L1930.42 795.139 Z\" fill=\"#000000\" fill-rule=\"nonzero\" fill-opacity=\"1\" /><path clip-path=\"url(#clip290)\" d=\"M1938.75 788.125 L1938.75 772.431 L1943.01 772.431 L1943.01 787.963 Q1943.01 791.644 1944.45 793.495 Q1945.88 795.324 1948.75 795.324 Q1952.2 795.324 1954.19 793.125 Q1956.2 790.926 1956.2 787.13 L1956.2 772.431 L1960.46 772.431 L1960.46 798.356 L1956.2 798.356 L1956.2 794.375 Q1954.65 796.736 1952.59 797.894 Q1950.56 799.028 1947.85 799.028 Q1943.38 799.028 1941.07 796.25 Q1938.75 793.472 1938.75 788.125 M1949.47 771.806 L1949.47 771.806 Z\" fill=\"#000000\" fill-rule=\"nonzero\" fill-opacity=\"1\" /><path clip-path=\"url(#clip290)\" d=\"M1969.24 762.338 L1973.5 762.338 L1973.5 798.356 L1969.24 798.356 L1969.24 762.338 Z\" fill=\"#000000\" fill-rule=\"nonzero\" fill-opacity=\"1\" /><path clip-path=\"url(#clip290)\" d=\"M1994.19 785.324 Q1989.03 785.324 1987.04 786.505 Q1985.05 787.685 1985.05 790.532 Q1985.05 792.801 1986.53 794.144 Q1988.03 795.463 1990.6 795.463 Q1994.14 795.463 1996.27 792.963 Q1998.43 790.44 1998.43 786.273 L1998.43 785.324 L1994.19 785.324 M2002.69 783.565 L2002.69 798.356 L1998.43 798.356 L1998.43 794.421 Q1996.97 796.782 1994.79 797.917 Q1992.62 799.028 1989.47 799.028 Q1985.49 799.028 1983.13 796.806 Q1980.79 794.56 1980.79 790.81 Q1980.79 786.435 1983.7 784.213 Q1986.64 781.991 1992.45 781.991 L1998.43 781.991 L1998.43 781.574 Q1998.43 778.634 1996.48 777.037 Q1994.56 775.417 1991.07 775.417 Q1988.84 775.417 1986.74 775.949 Q1984.63 776.482 1982.69 777.546 L1982.69 773.611 Q1985.02 772.708 1987.22 772.269 Q1989.42 771.806 1991.51 771.806 Q1997.13 771.806 1999.91 774.722 Q2002.69 777.639 2002.69 783.565 Z\" fill=\"#000000\" fill-rule=\"nonzero\" fill-opacity=\"1\" /><path clip-path=\"url(#clip290)\" d=\"M2015.67 765.07 L2015.67 772.431 L2024.44 772.431 L2024.44 775.741 L2015.67 775.741 L2015.67 789.815 Q2015.67 792.986 2016.53 793.889 Q2017.41 794.792 2020.07 794.792 L2024.44 794.792 L2024.44 798.356 L2020.07 798.356 Q2015.14 798.356 2013.26 796.528 Q2011.39 794.676 2011.39 789.815 L2011.39 775.741 L2008.26 775.741 L2008.26 772.431 L2011.39 772.431 L2011.39 765.07 L2015.67 765.07 Z\" fill=\"#000000\" fill-rule=\"nonzero\" fill-opacity=\"1\" /><path clip-path=\"url(#clip290)\" d=\"M2040.09 775.417 Q2036.67 775.417 2034.68 778.102 Q2032.69 780.764 2032.69 785.417 Q2032.69 790.07 2034.65 792.755 Q2036.64 795.417 2040.09 795.417 Q2043.5 795.417 2045.49 792.732 Q2047.48 790.046 2047.48 785.417 Q2047.48 780.81 2045.49 778.125 Q2043.5 775.417 2040.09 775.417 M2040.09 771.806 Q2045.65 771.806 2048.82 775.417 Q2051.99 779.028 2051.99 785.417 Q2051.99 791.782 2048.82 795.417 Q2045.65 799.028 2040.09 799.028 Q2034.51 799.028 2031.34 795.417 Q2028.19 791.782 2028.19 785.417 Q2028.19 779.028 2031.34 775.417 Q2034.51 771.806 2040.09 771.806 Z\" fill=\"#000000\" fill-rule=\"nonzero\" fill-opacity=\"1\" /><path clip-path=\"url(#clip290)\" d=\"M2074.07 776.412 Q2073.36 775.996 2072.5 775.81 Q2071.67 775.602 2070.65 775.602 Q2067.04 775.602 2065.09 777.963 Q2063.17 780.301 2063.17 784.699 L2063.17 798.356 L2058.89 798.356 L2058.89 772.431 L2063.17 772.431 L2063.17 776.458 Q2064.51 774.097 2066.67 772.963 Q2068.82 771.806 2071.9 771.806 Q2072.34 771.806 2072.87 771.875 Q2073.4 771.921 2074.05 772.037 L2074.07 776.412 Z\" fill=\"#000000\" fill-rule=\"nonzero\" fill-opacity=\"1\" /><path clip-path=\"url(#clip290)\" d=\"M2089.33 800.764 Q2087.52 805.393 2085.81 806.806 Q2084.1 808.218 2081.23 808.218 L2077.82 808.218 L2077.82 804.653 L2080.32 804.653 Q2082.08 804.653 2083.06 803.819 Q2084.03 802.986 2085.21 799.884 L2085.97 797.94 L2075.49 772.431 L2080 772.431 L2088.1 792.708 L2096.2 772.431 L2100.72 772.431 L2089.33 800.764 Z\" fill=\"#000000\" fill-rule=\"nonzero\" fill-opacity=\"1\" /><path clip-path=\"url(#clip290)\" d=\"M2142.57 764.931 L2142.57 769.491 Q2139.91 768.218 2137.55 767.593 Q2135.18 766.968 2132.99 766.968 Q2129.17 766.968 2127.08 768.449 Q2125.02 769.931 2125.02 772.662 Q2125.02 774.954 2126.39 776.134 Q2127.78 777.292 2131.62 778.009 L2134.44 778.588 Q2139.68 779.583 2142.15 782.107 Q2144.65 784.607 2144.65 788.82 Q2144.65 793.843 2141.27 796.435 Q2137.92 799.028 2131.41 799.028 Q2128.96 799.028 2126.18 798.472 Q2123.43 797.917 2120.46 796.829 L2120.46 792.014 Q2123.31 793.611 2126.04 794.421 Q2128.77 795.232 2131.41 795.232 Q2135.42 795.232 2137.59 793.657 Q2139.77 792.083 2139.77 789.167 Q2139.77 786.62 2138.19 785.185 Q2136.64 783.75 2133.08 783.033 L2130.23 782.477 Q2125 781.435 2122.66 779.213 Q2120.32 776.991 2120.32 773.033 Q2120.32 768.449 2123.54 765.81 Q2126.78 763.171 2132.45 763.171 Q2134.88 763.171 2137.41 763.611 Q2139.93 764.051 2142.57 764.931 Z\" fill=\"#000000\" fill-rule=\"nonzero\" fill-opacity=\"1\" /><path clip-path=\"url(#clip290)\" d=\"M2155.97 765.07 L2155.97 772.431 L2164.74 772.431 L2164.74 775.741 L2155.97 775.741 L2155.97 789.815 Q2155.97 792.986 2156.83 793.889 Q2157.71 794.792 2160.37 794.792 L2164.74 794.792 L2164.74 798.356 L2160.37 798.356 Q2155.44 798.356 2153.56 796.528 Q2151.69 794.676 2151.69 789.815 L2151.69 775.741 L2148.56 775.741 L2148.56 772.431 L2151.69 772.431 L2151.69 765.07 L2155.97 765.07 Z\" fill=\"#000000\" fill-rule=\"nonzero\" fill-opacity=\"1\" /><path clip-path=\"url(#clip290)\" d=\"M2182.13 785.324 Q2176.97 785.324 2174.98 786.505 Q2172.99 787.685 2172.99 790.532 Q2172.99 792.801 2174.47 794.144 Q2175.97 795.463 2178.54 795.463 Q2182.08 795.463 2184.21 792.963 Q2186.37 790.44 2186.37 786.273 L2186.37 785.324 L2182.13 785.324 M2190.62 783.565 L2190.62 798.356 L2186.37 798.356 L2186.37 794.421 Q2184.91 796.782 2182.73 797.917 Q2180.56 799.028 2177.41 799.028 Q2173.43 799.028 2171.06 796.806 Q2168.73 794.56 2168.73 790.81 Q2168.73 786.435 2171.64 784.213 Q2174.58 781.991 2180.39 781.991 L2186.37 781.991 L2186.37 781.574 Q2186.37 778.634 2184.42 777.037 Q2182.5 775.417 2179 775.417 Q2176.78 775.417 2174.68 775.949 Q2172.57 776.482 2170.62 777.546 L2170.62 773.611 Q2172.96 772.708 2175.16 772.269 Q2177.36 771.806 2179.44 771.806 Q2185.07 771.806 2187.85 774.722 Q2190.62 777.639 2190.62 783.565 Z\" fill=\"#000000\" fill-rule=\"nonzero\" fill-opacity=\"1\" /><path clip-path=\"url(#clip290)\" d=\"M2220.95 782.708 L2220.95 798.356 L2216.69 798.356 L2216.69 782.847 Q2216.69 779.167 2215.25 777.338 Q2213.82 775.509 2210.95 775.509 Q2207.5 775.509 2205.51 777.708 Q2203.52 779.908 2203.52 783.704 L2203.52 798.356 L2199.24 798.356 L2199.24 772.431 L2203.52 772.431 L2203.52 776.458 Q2205.05 774.121 2207.11 772.963 Q2209.19 771.806 2211.9 771.806 Q2216.37 771.806 2218.66 774.583 Q2220.95 777.338 2220.95 782.708 Z\" fill=\"#000000\" fill-rule=\"nonzero\" fill-opacity=\"1\" /><path clip-path=\"url(#clip290)\" d=\"M2246.5 776.366 L2246.5 762.338 L2250.76 762.338 L2250.76 798.356 L2246.5 798.356 L2246.5 794.468 Q2245.16 796.782 2243.1 797.917 Q2241.06 799.028 2238.19 799.028 Q2233.49 799.028 2230.53 795.278 Q2227.59 791.528 2227.59 785.417 Q2227.59 779.306 2230.53 775.556 Q2233.49 771.806 2238.19 771.806 Q2241.06 771.806 2243.1 772.94 Q2245.16 774.051 2246.5 776.366 M2231.99 785.417 Q2231.99 790.116 2233.91 792.801 Q2235.86 795.463 2239.24 795.463 Q2242.61 795.463 2244.56 792.801 Q2246.5 790.116 2246.5 785.417 Q2246.5 780.718 2244.56 778.056 Q2242.61 775.371 2239.24 775.371 Q2235.86 775.371 2233.91 778.056 Q2231.99 780.718 2231.99 785.417 Z\" fill=\"#000000\" fill-rule=\"nonzero\" fill-opacity=\"1\" /><path clip-path=\"url(#clip290)\" d=\"M2271.32 785.324 Q2266.16 785.324 2264.17 786.505 Q2262.18 787.685 2262.18 790.532 Q2262.18 792.801 2263.66 794.144 Q2265.16 795.463 2267.73 795.463 Q2271.27 795.463 2273.4 792.963 Q2275.55 790.44 2275.55 786.273 L2275.55 785.324 L2271.32 785.324 M2279.81 783.565 L2279.81 798.356 L2275.55 798.356 L2275.55 794.421 Q2274.1 796.782 2271.92 797.917 Q2269.74 799.028 2266.6 799.028 Q2262.61 799.028 2260.25 796.806 Q2257.92 794.56 2257.92 790.81 Q2257.92 786.435 2260.83 784.213 Q2263.77 781.991 2269.58 781.991 L2275.55 781.991 L2275.55 781.574 Q2275.55 778.634 2273.61 777.037 Q2271.69 775.417 2268.19 775.417 Q2265.97 775.417 2263.86 775.949 Q2261.76 776.482 2259.81 777.546 L2259.81 773.611 Q2262.15 772.708 2264.35 772.269 Q2266.55 771.806 2268.63 771.806 Q2274.26 771.806 2277.04 774.722 Q2279.81 777.639 2279.81 783.565 Z\" fill=\"#000000\" fill-rule=\"nonzero\" fill-opacity=\"1\" /><path clip-path=\"url(#clip290)\" d=\"M2303.61 776.412 Q2302.89 775.996 2302.04 775.81 Q2301.2 775.602 2300.18 775.602 Q2296.57 775.602 2294.63 777.963 Q2292.71 780.301 2292.71 784.699 L2292.71 798.356 L2288.42 798.356 L2288.42 772.431 L2292.71 772.431 L2292.71 776.458 Q2294.05 774.097 2296.2 772.963 Q2298.36 771.806 2301.43 771.806 Q2301.87 771.806 2302.41 771.875 Q2302.94 771.921 2303.59 772.037 L2303.61 776.412 Z\" fill=\"#000000\" fill-rule=\"nonzero\" fill-opacity=\"1\" /><path clip-path=\"url(#clip290)\" d=\"M2324.3 776.366 L2324.3 762.338 L2328.56 762.338 L2328.56 798.356 L2324.3 798.356 L2324.3 794.468 Q2322.96 796.782 2320.9 797.917 Q2318.86 799.028 2315.99 799.028 Q2311.3 799.028 2308.33 795.278 Q2305.39 791.528 2305.39 785.417 Q2305.39 779.306 2308.33 775.556 Q2311.3 771.806 2315.99 771.806 Q2318.86 771.806 2320.9 772.94 Q2322.96 774.051 2324.3 776.366 M2309.79 785.417 Q2309.79 790.116 2311.71 792.801 Q2313.66 795.463 2317.04 795.463 Q2320.42 795.463 2322.36 792.801 Q2324.3 790.116 2324.3 785.417 Q2324.3 780.718 2322.36 778.056 Q2320.42 775.371 2317.04 775.371 Q2313.66 775.371 2311.71 778.056 Q2309.79 780.718 2309.79 785.417 Z\" fill=\"#000000\" fill-rule=\"nonzero\" fill-opacity=\"1\" /></svg>\n"
            ]
          },
          "metadata": {},
          "output_type": "display_data"
        }
      ],
      "source": [
        "using Plots\n",
        "using LaTeXStrings\n",
        "\n",
        "# plot outputs\n",
        "p1 = plot([x;d], [C;C_2]; label=[\"DO\"], legend=:outerright, xlabel=\"x (km)\", ylabel=\"DO Concentration (mg/L)\", show = true)\n",
        "#plot(dist, y_vals, show=true)\n",
        "\n",
        "# Add horizontal line for the regulatory standard\n",
        "hline!([4], color=:red, linewidth=2, label=\"Regulatory Standard\")\n",
        "display(p1)"
      ]
    },
    {
      "cell_type": "markdown",
      "id": "50d928b1",
      "metadata": {},
      "source": [
        "**Minimum DO**:\n",
        "\n",
        "From inspection of the plot, we can see that the minimum dissolved oxygen exists in our second function do_simulate_2 which is stored in C_2. Thus, we perform the minimum function on C_2 to identify the value. The minimum dissolved oxygen in this scenario comes out to 3.76 mg/L. "
      ]
    },
    {
      "cell_type": "code",
      "execution_count": 119,
      "id": "b83ce2b9",
      "metadata": {},
      "outputs": [
        {
          "name": "stdout",
          "output_type": "stream",
          "text": [
            "min_DO = 3.757481773041718\n"
          ]
        },
        {
          "data": {
            "text/plain": [
              "3.757481773041718"
            ]
          },
          "metadata": {},
          "output_type": "display_data"
        }
      ],
      "source": [
        "min_DO = minimum(C_2)\n",
        "@show min_DO"
      ]
    },
    {
      "cell_type": "markdown",
      "id": "98ae5fed",
      "metadata": {},
      "source": [
        "Minimum level of treatment (% removal of organic waste) for waste stream 1 that will ensure that the dissolved oxygen concentration never drops below 4 mg/L, assuming that waste stream 2 remains untreated?"
      ]
    },
    {
      "cell_type": "code",
      "execution_count": 129,
      "id": "6fd8d22a",
      "metadata": {},
      "outputs": [
        {
          "name": "stdout",
          "output_type": "stream",
          "text": [
            "treatment = 0.0030517578125\n"
          ]
        },
        {
          "data": {
            "text/plain": [
              "0.0030517578125"
            ]
          },
          "metadata": {},
          "output_type": "display_data"
        }
      ],
      "source": [
        "#Only stream 1 is treated\n",
        "flow_range = 0:15 #range of first stream\n",
        "lo_val = 0\n",
        "hi_val = 100  \n",
        "treatment = (lo_val + hi_val) / 2 #calc average of low and high value of potential treatment value to keep getting close to real value\n",
        "\n",
        "test = 0.01  \n",
        "max_iterations = 200\n",
        "iteration_step = 0\n",
        "\n",
        "while hi_val - lo_val > test && iteration_step < max_iterations\n",
        "    percent_removed = 1 - treatment / 100 \n",
        "    B0_Treatment = ((Cr_CBOD * Qr) + (Cw1_CBOD * Qw1 * percent_removed)) / (Qr + Qw1) #apply a treatment percentage amount of CBOD loading\n",
        "    N0_Treatment = ((Cr_NBOD * Qr) + (Cw1_NBOD * Qw1 * percent_removed)) / (Qr + Qw1) #apply a treatment percentage amount of NBOD loading \n",
        "    \n",
        "    treatment_DO = [do_simulate(i, Cs, C0, B0_Treatment, N0_Treatment, ka, kc, kn, U) for i in flow_range]\n",
        "\n",
        "    #keep testing until we can reach goal of 4 mg/L\n",
        "    if minimum(treatment_DO) > 4\n",
        "        hi_val = treatment  \n",
        "    else\n",
        "        lo_val = treatment  \n",
        "    end\n",
        "    \n",
        "    iteration_step += 1\n",
        "    treatment = (lo_val + hi_val) / 2  \n",
        "end\n",
        "\n",
        "@show treatment\n",
        "\n"
      ]
    },
    {
      "cell_type": "markdown",
      "id": "e391e8f1",
      "metadata": {},
      "source": [
        "Minimum level of treatment is .003% removal if only stream 1 is treated."
      ]
    },
    {
      "cell_type": "code",
      "execution_count": 130,
      "id": "ca705df0",
      "metadata": {},
      "outputs": [
        {
          "name": "stdout",
          "output_type": "stream",
          "text": [
            "treatment = 11.662604287266731\n"
          ]
        },
        {
          "data": {
            "text/plain": [
              "11.662604287266731"
            ]
          },
          "metadata": {},
          "output_type": "display_data"
        }
      ],
      "source": [
        "#Only waste stream 2 is treated\n",
        "flow_range = 0:35 # 50km - 15km yields the second stream range\n",
        "lo_val = 0\n",
        "hi_val = 100\n",
        "treatment = (lo_val+hi_val)/2 #calc average of low and high value of potential treatment value to keep getting close to real value\n",
        "\n",
        "test = .000001\n",
        "max_iterations = 200\n",
        "iteration_step = 0\n",
        "\n",
        "#keep testing until we can reach goal of 4 mg/L\n",
        "while hi_val - lo_val > test && iteration_step < max_iterations\n",
        "    percent_removed = 1-treatment/100\n",
        "    B1_Treatment = (CBOD_15*(Qr+Qw1)+Cw2_CBOD*Qw2*percent_removed)/(Qr+Qw1+Qw2) #apply a treatment percentage amount of CBOD loading\n",
        "    N1_Treatment = (NBOD_15*(Qr+Qw1)+Cw2_NBOD*Qw2*percent_removed)/(Qr+Qw1+Qw2) #apply a treatment percentage amount of NBOD loading \n",
        "    treatment_DO = [do_simulate_2(i,Cs,C1,B1_Treatment,N1_Treatment,ka,kc,kn,U) for i in flow_range]\n",
        "\n",
        "    if minimum(treatment_DO) > 4\n",
        "        hi_val = treatment\n",
        "    else\n",
        "        lo_val = treatment\n",
        "    end\n",
        "    iteration_step += 1\n",
        "    treatment = (lo_val+hi_val)/2\n",
        "    \n",
        "end\n",
        "\n",
        "@show treatment"
      ]
    },
    {
      "cell_type": "markdown",
      "id": "744ca120",
      "metadata": {},
      "source": [
        "Minimum level of treatment is 11.66% removal if only stream 2 is treated."
      ]
    },
    {
      "cell_type": "markdown",
      "id": "26a58fbc",
      "metadata": {},
      "source": [
        "Suppose you are responsible for designing a waste treatment plan for discharges into the river, with a regulatory mandate to keep the dissolved oxygen concentration above 4 mg/L. Discuss whether you’d opt to treat waste stream 2 alone or both waste streams equally. What other information might you need to make a conclusion, if any?"
      ]
    },
    {
      "cell_type": "markdown",
      "id": "819ccd53-b316-4544-aa54-5a923d0316e2",
      "metadata": {},
      "source": [
        "### Problem 2 (20 points)\n",
        "\n",
        "The simplest climate model involves capturing changes to the Earth’s\n",
        "energy budget (it is commonly called the *energy balance model*, or\n",
        "EBM). These changes are also called *radiative forcings* (RF), and can\n",
        "result from several causes, including greenhouse gas emissions, volcanic\n",
        "eruptions, and changes to the solar cycle. The EBM treats the Earth as a\n",
        "0-dimensional sphere covered with water, which absorbs heat in response\n",
        "to radiative forcings. Chanwith global temperature changes resulting\n",
        "from imbalances in the average (over the entire surface area) heat flux.\n",
        "\n",
        "The EBM equations are:\n",
        "\n",
        "$$\n",
        "\\begin{align*}\n",
        "\\overbrace{\\frac{dH}{dt}}^{\\text{change in heat}} &= \\overbrace{F}^{\\substack{\\text{radiative} \\\\ \\text{forcing}}} - \\overbrace{\\lambda T}^{\\substack{\\text{change in} \\\\ \\text{temperature}}} \\\\\n",
        "\\underbrace{C}_{\\substack{\\text{ocean heat} \\\\ \\text{capacity}}} \\frac{dT}{dt} &= F - \\lambda T \\\\\n",
        "c\\underbrace{d}_{\\substack{\\text{ocean} \\\\ \\text{mixing depth}}} \\frac{dT}{dt} &= F - \\lambda T,\n",
        "\\end{align*}\n",
        "$$\n",
        "\n",
        "where $c = 4.184\\times 10^6 \\mathrm{J/K/m}^2$ is the specific heat of\n",
        "water per area, $d$ is the depth of the ocean mixed layer (we’ll assume\n",
        "$d = 86 \\mathrm{m}$), and $\\lambda$ is the **climate feedback factor**\n",
        "and controls how much the Earth warms in response to increased radiative\n",
        "forcing (assume\n",
        "$\\lambda = 2.1^\\circ \\mathrm{C}/(\\mathrm{W}/\\mathrm{m}^2$)). The total\n",
        "radiative forcing $F = F_\\text{non-aerosol} + \\alpha F_\\text{aerosol}$,\n",
        "where $\\alpha$ is an uncertain scaling factor reflecting aerosol-cloud\n",
        "feedbacks (we’ll assume $\\alpha = 0.8$).\n",
        "\n",
        "The code below loads historical and projected radiative forcings (under\n",
        "the SSP5-8.5 future emissions scenario, which is the most extreme of the\n",
        "scenarios used to project climate change impacts) from\n",
        "`data/ERF_ssp585_1750-2500.csv` into a `DataFrame` object and calculates\n",
        "the non-aerosol and aerosol components of those forcings."
      ]
    },
    {
      "cell_type": "markdown",
      "id": "f8e1c2c8-2cdb-4dd9-ab72-ed28227a09a8",
      "metadata": {},
      "source": [
        "> **Tip**\n",
        ">\n",
        "> Look closely at and experiment with the code below: `DataFrames` are a\n",
        "> common Julia datatype for tabular data, and you may work more with\n",
        "> them later in the semester or beyond! They are broadly similar to\n",
        "> `DataFrames` from `pandas` in Python."
      ]
    },
    {
      "cell_type": "code",
      "execution_count": 37,
      "id": "read-rf",
      "metadata": {},
      "outputs": [
        {
          "ename": "UndefVarError",
          "evalue": "UndefVarError: `CSV` not defined",
          "output_type": "error",
          "traceback": [
            "UndefVarError: `CSV` not defined\n",
            "\n",
            "Stacktrace:\n",
            " [1] top-level scope\n",
            "   @ ~/bee4750/homework/hw3-isamabay/jl_notebook_cell_df34fa98e69747e1a8f8a730347b8e2f_X16sZmlsZQ==.jl:3"
          ]
        }
      ],
      "source": [
        "# Dataset from https://zenodo.org/record/3973015\n",
        "# The CSV is read into a DataFrame object, and we specify that it is comma delimited\n",
        "forcings_all = CSV.read(\"data/ERF_ssp585_1750-2500.csv\", DataFrame, delim=\",\")\n",
        "\n",
        "# Separate out the individual components\n",
        "# Get total aerosol forcings\n",
        "forcing_aerosol_rad = forcings_all[!,\"aerosol-radiation_interactions\"]\n",
        "forcing_aerosol_cloud = forcings_all[!,\"aerosol-cloud_interactions\"]\n",
        "forcing_aerosol = forcing_aerosol_rad + forcing_aerosol_cloud\n",
        "# Calculate non-aerosol forcings from the total.\n",
        "forcing_total = forcings_all[!,\"total\"]\n",
        "forcing_non_aerosol = forcing_total - forcing_aerosol"
      ]
    },
    {
      "cell_type": "markdown",
      "id": "51fbbd4f-a66a-4e38-b8c4-ef1f720bdf92",
      "metadata": {},
      "source": [
        "We can plot the aerosol and non-aerosol forcings below."
      ]
    },
    {
      "cell_type": "code",
      "execution_count": 38,
      "id": "8",
      "metadata": {},
      "outputs": [
        {
          "ename": "UndefVarError",
          "evalue": "UndefVarError: `forcings_all` not defined",
          "output_type": "error",
          "traceback": [
            "UndefVarError: `forcings_all` not defined\n",
            "\n",
            "Stacktrace:\n",
            " [1] top-level scope\n",
            "   @ ~/bee4750/homework/hw3-isamabay/jl_notebook_cell_df34fa98e69747e1a8f8a730347b8e2f_X21sZmlsZQ==.jl:1"
          ]
        }
      ],
      "source": [
        "t = Int64.(forcings_all[!,\"year\"]) # Ensure that years are interpreted as integers\n",
        "p_forcing = plot(; xlabel=\"Year\", ylabel=\"Radiative Forcing (W/m²)\")\n",
        "plot!(p_forcing, t, forcing_aerosol, label=\"Aerosol Forcing\", color=:blue, linewidth=2)\n",
        "plot!(p_forcing, t, forcing_non_aerosol, label=\"Non-Aerosol Forcing\", color=:red, linewidth=2)"
      ]
    },
    {
      "cell_type": "markdown",
      "id": "18680831-9b11-4f27-ae1c-923850a0ae29",
      "metadata": {},
      "source": [
        "**In this problem**:\n",
        "\n",
        "-   Discretize the EBM to produce a simulation model of global mean\n",
        "    temperatures $T$ over time as a result of total radiative forcings\n",
        "    $F$.\n",
        "\n",
        "-   Simulate global mean temperature anomalies (in $^\\circ C$ relative\n",
        "    to 1750) from your model using the historical and SSP5-8.5 radiative\n",
        "    forcing data. Use an annual time step for the simulation (in\n",
        "    seconds: $\\Delta t = 31,558,152 \\mathrm{s}$). You can assume\n",
        "    $T(0) = 0^\\circ C$. Plot the resulting temperature simulation.\n",
        "\n",
        "-   The climate feedback factor $\\lambda$ is one of the key\n",
        "    uncertainties in projecting future temperatures, even assuming a\n",
        "    particular scenario of future radiative forcing. Suppose we use the\n",
        "    following distribution for $\\lambda$,\n",
        "    $$\\lambda \\sim \\text{LogNormal}(\\log(2.1), \\log(2)/4).$$\n",
        "\n",
        "    Use Monte Carlo simulation to estimate the expected temperature in\n",
        "    2100 assuming SSP5-RCP 8.5 radiative forcings (with 95% confidence\n",
        "    intervals). How does this estimate compare to the value you got from\n",
        "    your simulation using the expected value of\n",
        "    $\\lambda=2.1^\\circ \\mathrm{C}/(\\mathrm{W}/\\mathrm{m}^2)$? How did\n",
        "    you decide your sample set was sufficient?"
      ]
    },
    {
      "cell_type": "markdown",
      "id": "70fbf458-4e23-4995-b9b6-756edf648fc7",
      "metadata": {},
      "source": [
        "### Problem 3 (10 points)\n",
        "\n",
        "**This problem is only required for students in BEE 5750**.\n",
        "\n",
        "A factory is planning a third wastewater discharge into the river\n",
        "downstream of the second plant. This discharge would consist of 5\n",
        "m<sup>3</sup>/day of wastewater with a dissolved oxygen content of 4.5\n",
        "mg/L and CBOD and NBOD levels of 50 and 45 mg/L, respectively.\n",
        "\n",
        "**In this problem**:\n",
        "\n",
        "-   Assume that the treatment plan you identified in Problem 1 is still\n",
        "    in place for the existing discharges. If the third discharge will\n",
        "    not be treated, under the original inflow conditions (7.5 mg/L DO),\n",
        "    how far downstream from the second discharge does this third\n",
        "    discharge need to be placed to keep the river concentration from\n",
        "    dropping below 4 mg/L?"
      ]
    },
    {
      "cell_type": "markdown",
      "id": "79bf13e7-b17d-4289-b768-79579e78f7ec",
      "metadata": {},
      "source": [
        "## References\n",
        "\n",
        "List any external references consulted, including classmates."
      ]
    }
  ],
  "metadata": {
    "kernel_info": {
      "name": "julia"
    },
    "kernelspec": {
      "display_name": "Julia 1.10.4",
      "language": "julia",
      "name": "julia-1.10"
    },
    "language_info": {
      "file_extension": ".jl",
      "mimetype": "application/julia",
      "name": "julia",
      "version": "1.10.4"
    }
  },
  "nbformat": 4,
  "nbformat_minor": 5
}
